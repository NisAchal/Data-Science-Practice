{
 "cells": [
  {
   "cell_type": "markdown",
   "id": "cd047d95",
   "metadata": {},
   "source": [
    "# Numeric Types\n",
    "1. Integer (int): Real numbers\n",
    "- 1\n",
    "- 1000000000000........\n",
    "\n",
    "2. Float (float): Decimal Numbers\n",
    "- 1.1\n",
    "- 1.238888849499\n",
    "\n",
    "3. Complex (complex)\n",
    "- a+jb\n",
    "- 3 - 1.2a"
   ]
  },
  {
   "cell_type": "code",
   "execution_count": 1,
   "id": "87ca4b14",
   "metadata": {},
   "outputs": [],
   "source": [
    "a = 123"
   ]
  },
  {
   "cell_type": "code",
   "execution_count": 2,
   "id": "c11c1ad7",
   "metadata": {},
   "outputs": [
    {
     "data": {
      "text/plain": [
       "int"
      ]
     },
     "execution_count": 2,
     "metadata": {},
     "output_type": "execute_result"
    }
   ],
   "source": [
    "type(a)"
   ]
  },
  {
   "cell_type": "markdown",
   "id": "5c2d93d2",
   "metadata": {},
   "source": [
    "## Float type"
   ]
  },
  {
   "cell_type": "code",
   "execution_count": 3,
   "id": "306db10d",
   "metadata": {},
   "outputs": [],
   "source": [
    "b = 23.23"
   ]
  },
  {
   "cell_type": "code",
   "execution_count": 4,
   "id": "e41a55a3",
   "metadata": {},
   "outputs": [
    {
     "data": {
      "text/plain": [
       "float"
      ]
     },
     "execution_count": 4,
     "metadata": {},
     "output_type": "execute_result"
    }
   ],
   "source": [
    "type(b)"
   ]
  },
  {
   "cell_type": "markdown",
   "id": "bba78ed0",
   "metadata": {},
   "source": [
    "## Complex type"
   ]
  },
  {
   "cell_type": "code",
   "execution_count": 5,
   "id": "0ed52216",
   "metadata": {},
   "outputs": [],
   "source": [
    "c = 1+2j\n",
    "d = complex(1,2)"
   ]
  },
  {
   "cell_type": "code",
   "execution_count": 6,
   "id": "6d53a4a3",
   "metadata": {},
   "outputs": [
    {
     "data": {
      "text/plain": [
       "complex"
      ]
     },
     "execution_count": 6,
     "metadata": {},
     "output_type": "execute_result"
    }
   ],
   "source": [
    "type(c)"
   ]
  },
  {
   "cell_type": "code",
   "execution_count": 7,
   "id": "e0cccd7e",
   "metadata": {},
   "outputs": [
    {
     "data": {
      "text/plain": [
       "complex"
      ]
     },
     "execution_count": 7,
     "metadata": {},
     "output_type": "execute_result"
    }
   ],
   "source": [
    "type(d)"
   ]
  },
  {
   "cell_type": "markdown",
   "id": "0d16e9a5",
   "metadata": {},
   "source": [
    "## Type Conversion"
   ]
  },
  {
   "cell_type": "code",
   "execution_count": 8,
   "id": "a9d9e90f",
   "metadata": {},
   "outputs": [],
   "source": [
    "a = 123\n",
    "b= 10.10"
   ]
  },
  {
   "cell_type": "code",
   "execution_count": 9,
   "id": "0730a794",
   "metadata": {},
   "outputs": [
    {
     "data": {
      "text/plain": [
       "int"
      ]
     },
     "execution_count": 9,
     "metadata": {},
     "output_type": "execute_result"
    }
   ],
   "source": [
    "type(a)"
   ]
  },
  {
   "cell_type": "code",
   "execution_count": 10,
   "id": "a79f76b2",
   "metadata": {},
   "outputs": [
    {
     "data": {
      "text/plain": [
       "float"
      ]
     },
     "execution_count": 10,
     "metadata": {},
     "output_type": "execute_result"
    }
   ],
   "source": [
    "type(b)"
   ]
  },
  {
   "cell_type": "code",
   "execution_count": 11,
   "id": "2ebed1ac",
   "metadata": {},
   "outputs": [],
   "source": [
    "a = float(a)\n",
    "b= int (b)"
   ]
  },
  {
   "cell_type": "code",
   "execution_count": 12,
   "id": "ab7c7f8a",
   "metadata": {},
   "outputs": [
    {
     "data": {
      "text/plain": [
       "float"
      ]
     },
     "execution_count": 12,
     "metadata": {},
     "output_type": "execute_result"
    }
   ],
   "source": [
    "type(a)"
   ]
  },
  {
   "cell_type": "code",
   "execution_count": 13,
   "id": "74b1b64b",
   "metadata": {},
   "outputs": [
    {
     "data": {
      "text/plain": [
       "int"
      ]
     },
     "execution_count": 13,
     "metadata": {},
     "output_type": "execute_result"
    }
   ],
   "source": [
    "type(b)"
   ]
  },
  {
   "cell_type": "code",
   "execution_count": 14,
   "id": "e5d67c30",
   "metadata": {},
   "outputs": [
    {
     "data": {
      "text/plain": [
       "123.0"
      ]
     },
     "execution_count": 14,
     "metadata": {},
     "output_type": "execute_result"
    }
   ],
   "source": [
    "a"
   ]
  },
  {
   "cell_type": "code",
   "execution_count": 15,
   "id": "7fcebdcc",
   "metadata": {},
   "outputs": [
    {
     "data": {
      "text/plain": [
       "10"
      ]
     },
     "execution_count": 15,
     "metadata": {},
     "output_type": "execute_result"
    }
   ],
   "source": [
    "b"
   ]
  },
  {
   "cell_type": "markdown",
   "id": "bb720444",
   "metadata": {},
   "source": [
    "## Mathematical operations"
   ]
  },
  {
   "cell_type": "code",
   "execution_count": 16,
   "id": "6536095e",
   "metadata": {},
   "outputs": [],
   "source": [
    "a = 2\n",
    "b = 5 "
   ]
  },
  {
   "cell_type": "code",
   "execution_count": 17,
   "id": "17dcf6d3",
   "metadata": {},
   "outputs": [
    {
     "data": {
      "text/plain": [
       "7"
      ]
     },
     "execution_count": 17,
     "metadata": {},
     "output_type": "execute_result"
    }
   ],
   "source": [
    "#ADD\n",
    "a  + b"
   ]
  },
  {
   "cell_type": "code",
   "execution_count": 18,
   "id": "ad1d7320",
   "metadata": {},
   "outputs": [
    {
     "data": {
      "text/plain": [
       "-3"
      ]
     },
     "execution_count": 18,
     "metadata": {},
     "output_type": "execute_result"
    }
   ],
   "source": [
    "#Subtraction \n",
    "a - b"
   ]
  },
  {
   "cell_type": "code",
   "execution_count": 19,
   "id": "3b0d3b69",
   "metadata": {},
   "outputs": [
    {
     "data": {
      "text/plain": [
       "0.4"
      ]
     },
     "execution_count": 19,
     "metadata": {},
     "output_type": "execute_result"
    }
   ],
   "source": [
    "#Division\n",
    "a / b"
   ]
  },
  {
   "cell_type": "code",
   "execution_count": 20,
   "id": "75634888",
   "metadata": {},
   "outputs": [
    {
     "data": {
      "text/plain": [
       "10"
      ]
     },
     "execution_count": 20,
     "metadata": {},
     "output_type": "execute_result"
    }
   ],
   "source": [
    "#multiply\n",
    "a * b"
   ]
  },
  {
   "cell_type": "code",
   "execution_count": 21,
   "id": "0691a90b",
   "metadata": {},
   "outputs": [
    {
     "data": {
      "text/plain": [
       "32"
      ]
     },
     "execution_count": 21,
     "metadata": {},
     "output_type": "execute_result"
    }
   ],
   "source": [
    "#power\n",
    "a ** b"
   ]
  },
  {
   "cell_type": "code",
   "execution_count": 22,
   "id": "ae9229be",
   "metadata": {},
   "outputs": [
    {
     "data": {
      "text/plain": [
       "2"
      ]
     },
     "execution_count": 22,
     "metadata": {},
     "output_type": "execute_result"
    }
   ],
   "source": [
    "#Modulo\n",
    "a % b"
   ]
  },
  {
   "cell_type": "code",
   "execution_count": 23,
   "id": "a7267397",
   "metadata": {},
   "outputs": [
    {
     "data": {
      "text/plain": [
       "0"
      ]
     },
     "execution_count": 23,
     "metadata": {},
     "output_type": "execute_result"
    }
   ],
   "source": [
    "#Floor Division\n",
    "a // b"
   ]
  },
  {
   "cell_type": "code",
   "execution_count": 25,
   "id": "8a29e3e7",
   "metadata": {},
   "outputs": [
    {
     "data": {
      "text/plain": [
       "1.4142135623730951"
      ]
     },
     "execution_count": 25,
     "metadata": {},
     "output_type": "execute_result"
    }
   ],
   "source": [
    "#Square root\n",
    "a ** (1/2)"
   ]
  },
  {
   "cell_type": "markdown",
   "id": "f8354d6f",
   "metadata": {},
   "source": [
    "## Methods"
   ]
  },
  {
   "cell_type": "code",
   "execution_count": 24,
   "id": "d67b0c15",
   "metadata": {},
   "outputs": [
    {
     "data": {
      "text/plain": [
       "32"
      ]
     },
     "execution_count": 24,
     "metadata": {},
     "output_type": "execute_result"
    }
   ],
   "source": [
    "#power\n",
    "pow(a , b)"
   ]
  },
  {
   "cell_type": "code",
   "execution_count": null,
   "id": "7385f187",
   "metadata": {},
   "outputs": [],
   "source": []
  }
 ],
 "metadata": {
  "kernelspec": {
   "display_name": "Python 3 (ipykernel)",
   "language": "python",
   "name": "python3"
  },
  "language_info": {
   "codemirror_mode": {
    "name": "ipython",
    "version": 3
   },
   "file_extension": ".py",
   "mimetype": "text/x-python",
   "name": "python",
   "nbconvert_exporter": "python",
   "pygments_lexer": "ipython3",
   "version": "3.11.3"
  }
 },
 "nbformat": 4,
 "nbformat_minor": 5
}
