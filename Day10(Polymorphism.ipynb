{
 "cells": [
  {
   "cell_type": "markdown",
   "id": "d681d6d5",
   "metadata": {},
   "source": [
    "# polymerphism and Abstarction"
   ]
  },
  {
   "cell_type": "markdown",
   "id": "4bfba24a",
   "metadata": {},
   "source": [
    "## Duck Typying"
   ]
  },
  {
   "cell_type": "code",
   "execution_count": 3,
   "id": "8274136b",
   "metadata": {},
   "outputs": [
    {
     "name": "stdout",
     "output_type": "stream",
     "text": [
      "Driving a Car\n",
      "Driving a bike\n"
     ]
    }
   ],
   "source": [
    "class Car:\n",
    "    def drive(self):\n",
    "        print(\"Driving a Car\")\n",
    "class Bike:\n",
    "    def drive(self):\n",
    "        print(\"Driving a bike\")\n",
    "def start_driving(vehicle): \n",
    "    vehicle.drive()\n",
    "car = Car()\n",
    "bike = Bike()\n",
    "\n",
    "start_driving(car)\n",
    "start_driving(bike)\n",
    "        "
   ]
  },
  {
   "cell_type": "code",
   "execution_count": null,
   "id": "d1ae6ff8",
   "metadata": {},
   "outputs": [],
   "source": []
  },
  {
   "cell_type": "markdown",
   "id": "a85fd26f",
   "metadata": {},
   "source": [
    "## Abstraction"
   ]
  },
  {
   "cell_type": "code",
   "execution_count": 8,
   "id": "1c870d4b",
   "metadata": {},
   "outputs": [],
   "source": [
    "from abc import ABC, abstractmethod\n",
    "\n",
    "class Shape(ABC): #its a abstract class\n",
    "    @abstractmethod\n",
    "    def area(self):\n",
    "        pass\n",
    "    @abstractmethod\n",
    "    def perimeter(self):\n",
    "        pass"
   ]
  },
  {
   "cell_type": "code",
   "execution_count": 13,
   "id": "3272fb83",
   "metadata": {},
   "outputs": [
    {
     "ename": "TypeError",
     "evalue": "Can't instantiate abstract class Shape with abstract methods area, perimeter",
     "output_type": "error",
     "traceback": [
      "\u001b[1;31m---------------------------------------------------------------------------\u001b[0m",
      "\u001b[1;31mTypeError\u001b[0m                                 Traceback (most recent call last)",
      "Cell \u001b[1;32mIn[13], line 1\u001b[0m\n\u001b[1;32m----> 1\u001b[0m shape \u001b[38;5;241m=\u001b[39m \u001b[43mShape\u001b[49m\u001b[43m(\u001b[49m\u001b[43m)\u001b[49m\n",
      "\u001b[1;31mTypeError\u001b[0m: Can't instantiate abstract class Shape with abstract methods area, perimeter"
     ]
    }
   ],
   "source": [
    "shape = Shape()"
   ]
  },
  {
   "cell_type": "code",
   "execution_count": 24,
   "id": "8dc1fe86",
   "metadata": {},
   "outputs": [
    {
     "ename": "TypeError",
     "evalue": "Can't instantiate abstract class Rectangle with abstract method perimeter",
     "output_type": "error",
     "traceback": [
      "\u001b[1;31m---------------------------------------------------------------------------\u001b[0m",
      "\u001b[1;31mTypeError\u001b[0m                                 Traceback (most recent call last)",
      "Cell \u001b[1;32mIn[24], line 7\u001b[0m\n\u001b[0;32m      5\u001b[0m     \u001b[38;5;28;01mdef\u001b[39;00m \u001b[38;5;21marea\u001b[39m(\u001b[38;5;28mself\u001b[39m):\n\u001b[0;32m      6\u001b[0m         \u001b[38;5;28;01mreturn\u001b[39;00m \u001b[38;5;28mself\u001b[39m\u001b[38;5;241m.\u001b[39mwidth \u001b[38;5;241m*\u001b[39m \u001b[38;5;28mself\u001b[39m\u001b[38;5;241m.\u001b[39mheight\n\u001b[1;32m----> 7\u001b[0m rect \u001b[38;5;241m=\u001b[39m \u001b[43mRectangle\u001b[49m\u001b[43m(\u001b[49m\u001b[38;5;241;43m4\u001b[39;49m\u001b[43m,\u001b[49m\u001b[43m \u001b[49m\u001b[38;5;241;43m5\u001b[39;49m\u001b[43m)\u001b[49m\n\u001b[0;32m      8\u001b[0m \u001b[38;5;28mprint\u001b[39m(rect\u001b[38;5;241m.\u001b[39marea())\n",
      "\u001b[1;31mTypeError\u001b[0m: Can't instantiate abstract class Rectangle with abstract method perimeter"
     ]
    }
   ],
   "source": [
    "\n",
    "class Rectangle(Shape):\n",
    "    def __init__(self, width, height):\n",
    "        self.width = width\n",
    "        self.height = height\n",
    "    def area(self):\n",
    "        return self.width * self.\n",
    "#as it misses perimeter method from abstract class(Shape) it throws an error\n",
    "rect = Rectangle(4, 5)\n",
    "print(rect.area())\n",
    "    "
   ]
  },
  {
   "cell_type": "code",
   "execution_count": null,
   "id": "01ca23a2",
   "metadata": {},
   "outputs": [],
   "source": []
  },
  {
   "cell_type": "markdown",
   "id": "bda32518",
   "metadata": {},
   "source": [
    "### Correct way"
   ]
  },
  {
   "cell_type": "code",
   "execution_count": 17,
   "id": "95b6875f",
   "metadata": {},
   "outputs": [],
   "source": [
    "class Rectangle(Shape):\n",
    "    def __init__(self, width, height):\n",
    "        self.width = width\n",
    "        self.height = height\n",
    "    def area(self):\n",
    "        return self.width * self.height\n",
    "    def perimeter(self):\n",
    "        return 2 *(self.width + self.height)"
   ]
  },
  {
   "cell_type": "code",
   "execution_count": 23,
   "id": "43d7be0f",
   "metadata": {},
   "outputs": [
    {
     "name": "stdout",
     "output_type": "stream",
     "text": [
      "20\n",
      "18\n"
     ]
    }
   ],
   "source": [
    "rect = Rectangle(4, 5)\n",
    "print(rect.area())\n",
    "print(rect.perimeter())\n",
    "\n"
   ]
  },
  {
   "cell_type": "code",
   "execution_count": 27,
   "id": "7ce61355",
   "metadata": {},
   "outputs": [],
   "source": []
  },
  {
   "cell_type": "code",
   "execution_count": 28,
   "id": "e93c0b71",
   "metadata": {},
   "outputs": [],
   "source": [
    "#adding extra method in Rectangle Class and its working as it satisfy abstraction class with having area and perimeter method.\n",
    "class Rectangle(Shape):\n",
    "    def __init__(self, width, height):\n",
    "        self.width = width\n",
    "        self.height = height\n",
    "    def area(self):\n",
    "        return self.width * self.height\n",
    "    def perimeter(self):\n",
    "        return 2 *(self.width + self.height)\n",
    "    def doubleperimeter(self):\n",
    "        return 2*(2 *(self.width + self.height))"
   ]
  },
  {
   "cell_type": "code",
   "execution_count": 26,
   "id": "14bec7d1",
   "metadata": {},
   "outputs": [
    {
     "name": "stdout",
     "output_type": "stream",
     "text": [
      "20\n",
      "18\n",
      "36\n"
     ]
    }
   ],
   "source": [
    "rect = Rectangle(4, 5)\n",
    "print(rect.area())\n",
    "print(rect.perimeter())\n",
    "print(rect.doubleperimeter())\n",
    "\n"
   ]
  },
  {
   "cell_type": "markdown",
   "id": "f55f5120",
   "metadata": {},
   "source": [
    "#Ass\n",
    "### Design a program to control speed of a car and a bike independently. also consider the turning phenomenon of each using stering if its a car and handle if its a bike.\n",
    " \n",
    " parent Class: Vehicle\n",
    " Child 1 : Bike\n",
    " Child 2: Car\n",
    " \n",
    " Methods: turning, speed"
   ]
  },
  {
   "cell_type": "code",
   "execution_count": null,
   "id": "7dc3cd41",
   "metadata": {},
   "outputs": [],
   "source": []
  }
 ],
 "metadata": {
  "kernelspec": {
   "display_name": "Python 3 (ipykernel)",
   "language": "python",
   "name": "python3"
  },
  "language_info": {
   "codemirror_mode": {
    "name": "ipython",
    "version": 3
   },
   "file_extension": ".py",
   "mimetype": "text/x-python",
   "name": "python",
   "nbconvert_exporter": "python",
   "pygments_lexer": "ipython3",
   "version": "3.11.3"
  }
 },
 "nbformat": 4,
 "nbformat_minor": 5
}
