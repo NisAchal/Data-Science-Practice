{
 "cells": [
  {
   "cell_type": "markdown",
   "id": "9b8574f7",
   "metadata": {},
   "source": [
    "# Method Overloading"
   ]
  },
  {
   "cell_type": "code",
   "execution_count": 1,
   "id": "a2082370",
   "metadata": {},
   "outputs": [],
   "source": [
    "class Example:\n",
    "    def add(self, a, b=None, c=None):\n",
    "        if b is not None and c is not None:\n",
    "            return a+b+c\n",
    "        elif b is not None:\n",
    "            return a+b\n",
    "        else:\n",
    "            return a"
   ]
  },
  {
   "cell_type": "code",
   "execution_count": 4,
   "id": "f36f469d",
   "metadata": {},
   "outputs": [],
   "source": [
    "example = Example()"
   ]
  },
  {
   "cell_type": "code",
   "execution_count": 6,
   "id": "1287d522",
   "metadata": {},
   "outputs": [],
   "source": [
    "val = example.add(1,2)"
   ]
  },
  {
   "cell_type": "code",
   "execution_count": 7,
   "id": "3d1ec85d",
   "metadata": {},
   "outputs": [
    {
     "data": {
      "text/plain": [
       "3"
      ]
     },
     "execution_count": 7,
     "metadata": {},
     "output_type": "execute_result"
    }
   ],
   "source": [
    "val"
   ]
  },
  {
   "cell_type": "code",
   "execution_count": 13,
   "id": "9d68ead4",
   "metadata": {},
   "outputs": [],
   "source": [
    "class Example:\n",
    "    def add(self, *args):\n",
    "        if len(args) == 1:\n",
    "            return args[0]\n",
    "        elif len(args) == 2 :\n",
    "            return args[0] + args[1]\n",
    "        elif len(args) == 3:\n",
    "            return args[0] + args[1] + args[2]\n",
    "        "
   ]
  },
  {
   "cell_type": "code",
   "execution_count": 15,
   "id": "226bfa37",
   "metadata": {},
   "outputs": [],
   "source": [
    "eg = Example()"
   ]
  },
  {
   "cell_type": "code",
   "execution_count": 17,
   "id": "d533097a",
   "metadata": {},
   "outputs": [],
   "source": [
    "val1 = eg.add(1)\n",
    "val2 = eg.add(2 , 3)\n",
    "val3 = eg.add(1, 2, 3)"
   ]
  },
  {
   "cell_type": "code",
   "execution_count": 18,
   "id": "a5cbf557",
   "metadata": {},
   "outputs": [
    {
     "name": "stdout",
     "output_type": "stream",
     "text": [
      "1 5 6\n"
     ]
    }
   ],
   "source": [
    "print(val1, val2, val3)"
   ]
  },
  {
   "cell_type": "code",
   "execution_count": 19,
   "id": "dac2743a",
   "metadata": {},
   "outputs": [],
   "source": [
    "val4 = eg.add(1, 2, 3, 4, 5)\n"
   ]
  },
  {
   "cell_type": "code",
   "execution_count": 20,
   "id": "bf994cd6",
   "metadata": {},
   "outputs": [
    {
     "name": "stdout",
     "output_type": "stream",
     "text": [
      "None\n"
     ]
    }
   ],
   "source": [
    "print(val4) #it needs to throw None not an actual value"
   ]
  },
  {
   "cell_type": "code",
   "execution_count": null,
   "id": "f2d36dfa",
   "metadata": {},
   "outputs": [],
   "source": []
  }
 ],
 "metadata": {
  "kernelspec": {
   "display_name": "Python 3 (ipykernel)",
   "language": "python",
   "name": "python3"
  },
  "language_info": {
   "codemirror_mode": {
    "name": "ipython",
    "version": 3
   },
   "file_extension": ".py",
   "mimetype": "text/x-python",
   "name": "python",
   "nbconvert_exporter": "python",
   "pygments_lexer": "ipython3",
   "version": "3.11.3"
  }
 },
 "nbformat": 4,
 "nbformat_minor": 5
}
