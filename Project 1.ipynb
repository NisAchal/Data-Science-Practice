{
 "cells": [
  {
   "cell_type": "code",
   "execution_count": 1,
   "id": "f640218a",
   "metadata": {},
   "outputs": [],
   "source": [
    "class product:\n",
    "    def __init__(self,name,price):\n",
    "        self.name=name\n",
    "        self.price=price"
   ]
  },
  {
   "cell_type": "code",
   "execution_count": 2,
   "id": "3f064255",
   "metadata": {},
   "outputs": [],
   "source": [
    "class User:\n",
    "    users = []\n",
    "    def __init__(self,name):\n",
    "        self.products = []\n",
    "        self.name = self.validate_name(name)\n",
    "        self._is_premium = False\n",
    "        self._is_admin = False\n",
    "        self.cart = shopingCart()\n",
    "        User.users.append(self)  #Add user to the list of users\n",
    "        if self.name == 'admin':\n",
    "            self.__is_premium = True\n",
    "            self.__is_admin = True\n",
    "    @staticmethod\n",
    "    def validate_name(name):\n",
    "        if any(user.name == name for user in User.users):\n",
    "            print(f\"User with the '{name}' already exist. Please choose a different name\")\n",
    "            unique_name = input(\"Please enter a unique name\")\n",
    "            return User.validate_Name(unique_name) #Recursively validate the unique name\n",
    "        return name\n",
    "    \n",
    "    @property\n",
    "    def is_admin(self):\n",
    "        return self.__is_admin\n",
    "    @property\n",
    "    def is_premium(self):\n",
    "        return self.__is_premium\n",
    "    \n",
    "    def make_admin(self, admin_user):\n",
    "        if admin_user.is_admin:\n",
    "            self.__is_admin = True\n",
    "            \n",
    "    def make_premium(self, admin_user):\n",
    "        if admin_user.is_admin:\n",
    "            self.__is_premium = True\n",
    "            \n",
    "    def remove_admin(self, admin_user):\n",
    "        if admin_user.is_admin:\n",
    "            self.__is_admin = False\n",
    "            \n",
    "    def remove_premium(self, admin_user):\n",
    "        if admin_user.is_admin:\n",
    "            self.__is_premium = False"
   ]
  },
  {
   "cell_type": "code",
   "execution_count": 3,
   "id": "9889ab72",
   "metadata": {},
   "outputs": [],
   "source": [
    "def discounted_10_percent(func):\n",
    "    def wrapper(self):\n",
    "        total_price=func(self)\n",
    "        discount_cost=total_price * 0.9\n",
    "        return discount_cost\n",
    "    return wrapper"
   ]
  },
  {
   "cell_type": "code",
   "execution_count": 4,
   "id": "307c5813",
   "metadata": {},
   "outputs": [],
   "source": [
    "class shopingCart:\n",
    "    def __init__(self):\n",
    "        self.products=[]\n",
    "        \n",
    "    def add_product(self,product):\n",
    "        self.products.append(product)\n",
    "        \n",
    "    def remove_product(self,product):\n",
    "        self.products.remove(product)\n",
    "        \n",
    "    def calculate_total_cost(self):\n",
    "        total_cost=sum(product.price for product in self .products)\n",
    "        return total_cost\n",
    "    @discounted_10_percent\n",
    "    def calculate_discounted_cost(self):\n",
    "        total_cost=sum(product.price for product in self.products)\n",
    "        return total_cost\n",
    "    \n",
    "    def generate_invoice(self,user):\n",
    "        invoice=f\"Invoive for {user.name}: \\n\"\n",
    "        invoice+=\"======================== \\n\"\n",
    "        for product in self.products:\n",
    "            invoice+=f\"{product.name}:${product.price} \\n\"\n",
    "        total_cost=self.calculate_total_cost()\n",
    "        if user.is_premium:\n",
    "            invoice+=\"------------------------- \\n\"\n",
    "            invoice+=f\"sub-total : ${total_cost} \\n\"\n",
    "            final_cost=self.calculate_discounted_cost()\n",
    "            invoice+=f\"discounted price :{total_cost-final_cost} \\n\"\n",
    "            total_cost=final_cost\n",
    "        invoice+=\"------------------------- \\n\"\n",
    "        invoice+=f\"Total: ${total_cost}\"\n",
    "        return invoice\n",
    "    \n",
    "    def get_products(self):\n",
    "        yield from self.products"
   ]
  },
  {
   "cell_type": "code",
   "execution_count": 5,
   "id": "a8b398a0",
   "metadata": {},
   "outputs": [],
   "source": [
    "Shoe1 = product(\"Nike\",5000)\n",
    "Shoe2 = product(\"Puma\",3500)\n",
    "Shoe3 = product(\"GoldStar\",1510)\n",
    "Shoe4 = product(\"Caliber\",2500)  \n"
   ]
  },
  {
   "cell_type": "code",
   "execution_count": 6,
   "id": "1fc42455",
   "metadata": {},
   "outputs": [
    {
     "name": "stdout",
     "output_type": "stream",
     "text": [
      "Product added in cart of Buyer1:\n",
      "\n",
      "product:Nike  price:$5000\n",
      "product:GoldStar  price:$1510\n"
     ]
    }
   ],
   "source": [
    "cart1 = shopingCart()\n",
    "# to Add product to cart for Buyer1\n",
    "print(f\"Product added in cart of Buyer1:\")\n",
    "print(\"\")\n",
    "cart1.add_product(Shoe1)\n",
    "cart1.add_product(Shoe3)\n",
    "\n",
    "for product in cart1.get_products():\n",
    "        print(f\"product:{product.name}  price:${product.price}\")         \n"
   ]
  },
  {
   "cell_type": "code",
   "execution_count": 7,
   "id": "188f5d4d",
   "metadata": {},
   "outputs": [
    {
     "ename": "AttributeError",
     "evalue": "'User' object has no attribute '_User__is_premium'",
     "output_type": "error",
     "traceback": [
      "\u001b[1;31m---------------------------------------------------------------------------\u001b[0m",
      "\u001b[1;31mAttributeError\u001b[0m                            Traceback (most recent call last)",
      "Cell \u001b[1;32mIn[7], line 2\u001b[0m\n\u001b[0;32m      1\u001b[0m user1 \u001b[38;5;241m=\u001b[39m User(\u001b[38;5;124m'\u001b[39m\u001b[38;5;124mbijay\u001b[39m\u001b[38;5;124m'\u001b[39m)\n\u001b[1;32m----> 2\u001b[0m invoice \u001b[38;5;241m=\u001b[39m \u001b[43mcart1\u001b[49m\u001b[38;5;241;43m.\u001b[39;49m\u001b[43mgenerate_invoice\u001b[49m\u001b[43m(\u001b[49m\u001b[43muser1\u001b[49m\u001b[43m)\u001b[49m\n\u001b[0;32m      3\u001b[0m \u001b[38;5;28mprint\u001b[39m(invoice)\n",
      "Cell \u001b[1;32mIn[4], line 25\u001b[0m, in \u001b[0;36mshopingCart.generate_invoice\u001b[1;34m(self, user)\u001b[0m\n\u001b[0;32m     23\u001b[0m     invoice\u001b[38;5;241m+\u001b[39m\u001b[38;5;241m=\u001b[39m\u001b[38;5;124mf\u001b[39m\u001b[38;5;124m\"\u001b[39m\u001b[38;5;132;01m{\u001b[39;00mproduct\u001b[38;5;241m.\u001b[39mname\u001b[38;5;132;01m}\u001b[39;00m\u001b[38;5;124m:$\u001b[39m\u001b[38;5;132;01m{\u001b[39;00mproduct\u001b[38;5;241m.\u001b[39mprice\u001b[38;5;132;01m}\u001b[39;00m\u001b[38;5;124m \u001b[39m\u001b[38;5;130;01m\\n\u001b[39;00m\u001b[38;5;124m\"\u001b[39m\n\u001b[0;32m     24\u001b[0m total_cost\u001b[38;5;241m=\u001b[39m\u001b[38;5;28mself\u001b[39m\u001b[38;5;241m.\u001b[39mcalculate_total_cost()\n\u001b[1;32m---> 25\u001b[0m \u001b[38;5;28;01mif\u001b[39;00m \u001b[43muser\u001b[49m\u001b[38;5;241;43m.\u001b[39;49m\u001b[43mis_premium\u001b[49m:\n\u001b[0;32m     26\u001b[0m     invoice\u001b[38;5;241m+\u001b[39m\u001b[38;5;241m=\u001b[39m\u001b[38;5;124m\"\u001b[39m\u001b[38;5;124m------------------------- \u001b[39m\u001b[38;5;130;01m\\n\u001b[39;00m\u001b[38;5;124m\"\u001b[39m\n\u001b[0;32m     27\u001b[0m     invoice\u001b[38;5;241m+\u001b[39m\u001b[38;5;241m=\u001b[39m\u001b[38;5;124mf\u001b[39m\u001b[38;5;124m\"\u001b[39m\u001b[38;5;124msub-total : $\u001b[39m\u001b[38;5;132;01m{\u001b[39;00mtotal_cost\u001b[38;5;132;01m}\u001b[39;00m\u001b[38;5;124m \u001b[39m\u001b[38;5;130;01m\\n\u001b[39;00m\u001b[38;5;124m\"\u001b[39m\n",
      "Cell \u001b[1;32mIn[2], line 26\u001b[0m, in \u001b[0;36mUser.is_premium\u001b[1;34m(self)\u001b[0m\n\u001b[0;32m     24\u001b[0m \u001b[38;5;129m@property\u001b[39m\n\u001b[0;32m     25\u001b[0m \u001b[38;5;28;01mdef\u001b[39;00m \u001b[38;5;21mis_premium\u001b[39m(\u001b[38;5;28mself\u001b[39m):\n\u001b[1;32m---> 26\u001b[0m     \u001b[38;5;28;01mreturn\u001b[39;00m \u001b[38;5;28;43mself\u001b[39;49m\u001b[38;5;241;43m.\u001b[39;49m\u001b[43m__is_premium\u001b[49m\n",
      "\u001b[1;31mAttributeError\u001b[0m: 'User' object has no attribute '_User__is_premium'"
     ]
    }
   ],
   "source": [
    "user1 = User('bijay')\n",
    "invoice = cart1.generate_invoice(user1)\n",
    "print(invoice)"
   ]
  },
  {
   "cell_type": "code",
   "execution_count": null,
   "id": "0782fe83",
   "metadata": {},
   "outputs": [],
   "source": []
  },
  {
   "cell_type": "code",
   "execution_count": null,
   "id": "29a9911b",
   "metadata": {},
   "outputs": [],
   "source": []
  },
  {
   "cell_type": "code",
   "execution_count": null,
   "id": "9fd0b87e",
   "metadata": {},
   "outputs": [],
   "source": []
  }
 ],
 "metadata": {
  "kernelspec": {
   "display_name": "Python 3 (ipykernel)",
   "language": "python",
   "name": "python3"
  },
  "language_info": {
   "codemirror_mode": {
    "name": "ipython",
    "version": 3
   },
   "file_extension": ".py",
   "mimetype": "text/x-python",
   "name": "python",
   "nbconvert_exporter": "python",
   "pygments_lexer": "ipython3",
   "version": "3.11.3"
  }
 },
 "nbformat": 4,
 "nbformat_minor": 5
}
