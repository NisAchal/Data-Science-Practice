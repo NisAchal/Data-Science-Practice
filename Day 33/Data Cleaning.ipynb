{
 "cells": [
  {
   "cell_type": "markdown",
   "id": "20f838e0",
   "metadata": {},
   "source": [
    "## Data Cleaning"
   ]
  },
  {
   "cell_type": "code",
   "execution_count": 10,
   "id": "e81e7f16",
   "metadata": {},
   "outputs": [],
   "source": [
    "import pandas as pd\n",
    "import numpy as np"
   ]
  },
  {
   "cell_type": "markdown",
   "id": "4981f0de",
   "metadata": {},
   "source": [
    "### Handling Duplicate"
   ]
  },
  {
   "cell_type": "code",
   "execution_count": 2,
   "id": "40ab6769",
   "metadata": {},
   "outputs": [
    {
     "name": "stdout",
     "output_type": "stream",
     "text": [
      "Original dataframe:\n",
      "     A  B   C\n",
      "0  foo  1  10\n",
      "1  bar  2  20\n",
      "2  foo  3  30\n",
      "3  baz  4  40\n",
      "4  qux  5  50\n",
      "5  baz  6  60\n",
      "6  foo  7  70\n"
     ]
    }
   ],
   "source": [
    "# Create a sample dataset with duplicate values\n",
    "data = { 'A':['foo','bar','foo','baz','qux','baz','foo'],\n",
    "          'B':[1,2,3,4,5,6,7],\n",
    "        'C':[10,20,30,40,50,60,70] }\n",
    "df = pd.DataFrame(data)\n",
    "\n",
    "#Print the original dataframe\n",
    "print('Original dataframe:')\n",
    "print(df)\n"
   ]
  },
  {
   "cell_type": "code",
   "execution_count": 3,
   "id": "cde6b1fb",
   "metadata": {},
   "outputs": [
    {
     "name": "stdout",
     "output_type": "stream",
     "text": [
      "\n",
      "Dataframe after dropping duplicates:\n",
      "     A  B   C\n",
      "0  foo  1  10\n",
      "1  bar  2  20\n",
      "3  baz  4  40\n",
      "4  qux  5  50\n"
     ]
    }
   ],
   "source": [
    "# Drop duplicates\n",
    "df.drop_duplicates(subset=['A'], inplace=True)\n",
    "print('\\nDataframe after dropping duplicates:')\n",
    "print(df)"
   ]
  },
  {
   "cell_type": "code",
   "execution_count": 4,
   "id": "f1bbe219",
   "metadata": {},
   "outputs": [
    {
     "name": "stdout",
     "output_type": "stream",
     "text": [
      "\n",
      "Dataframe after aggregating duplicates:\n",
      "       B     C\n",
      "A             \n",
      "bar  2.0  20.0\n",
      "baz  4.0  40.0\n",
      "foo  1.0  10.0\n",
      "qux  5.0  50.0\n"
     ]
    }
   ],
   "source": [
    "# Aggregrate duplicate\n",
    "agg_df = df.groupby(['A']).mean()\n",
    "print('\\nDataframe after aggregating duplicates:')\n",
    "print(agg_df)"
   ]
  },
  {
   "cell_type": "code",
   "execution_count": 5,
   "id": "a8297019",
   "metadata": {},
   "outputs": [
    {
     "name": "stdout",
     "output_type": "stream",
     "text": [
      "\n",
      "Dataframe after keeping the first occurrence:\n",
      "     A  B   C\n",
      "0  foo  1  10\n",
      "1  bar  2  20\n",
      "3  baz  4  40\n",
      "4  qux  5  50\n"
     ]
    }
   ],
   "source": [
    "# Keep the first occurrence\n",
    "first_df=df.drop_duplicates(subset=['A'], keep='first')\n",
    "print('\\nDataframe after keeping the first occurrence:')\n",
    "print(first_df)"
   ]
  },
  {
   "cell_type": "code",
   "execution_count": 7,
   "id": "ba492389",
   "metadata": {},
   "outputs": [
    {
     "name": "stdout",
     "output_type": "stream",
     "text": [
      "\n",
      "Dataframe after keeping the last occurrence:\n",
      "     A  B   C\n",
      "0  foo  1  10\n",
      "1  bar  2  20\n",
      "3  baz  4  40\n",
      "4  qux  5  50\n"
     ]
    }
   ],
   "source": [
    "# keep the last occurrence\n",
    "last_df= df.drop_duplicates(subset=['A'], keep='last')\n",
    "print('\\nDataframe after keeping the last occurrence:')\n",
    "print(last_df)"
   ]
  },
  {
   "cell_type": "code",
   "execution_count": 8,
   "id": "fbd1a372",
   "metadata": {},
   "outputs": [
    {
     "name": "stdout",
     "output_type": "stream",
     "text": [
      "\n",
      "Dataframe after marking duplicates:\n",
      "     A  B   C  duplicate\n",
      "0  foo  1  10      False\n",
      "1  bar  2  20      False\n",
      "3  baz  4  40      False\n",
      "4  qux  5  50      False\n"
     ]
    }
   ],
   "source": [
    "# Mark Duplicates\n",
    "df['duplicate'] = df.duplicated(subset=['A'])\n",
    "print('\\nDataframe after marking duplicates:')\n",
    "print(df)"
   ]
  },
  {
   "cell_type": "markdown",
   "id": "90923f84",
   "metadata": {},
   "source": [
    "### Handling Incorrect Data"
   ]
  },
  {
   "cell_type": "code",
   "execution_count": 11,
   "id": "f0fe1357",
   "metadata": {},
   "outputs": [
    {
     "name": "stdout",
     "output_type": "stream",
     "text": [
      "\n",
      "Dataframe before handling incorrect data\n",
      "   id   name  age gender income\n",
      "0   1   John   25      M  50000\n",
      "1   2   jane  -31      F  70000\n",
      "2   3  nikks   42      M    NaN\n",
      "3   4    Bob   19      M  30000\n",
      "4   5  Alice   37      F  60000\n"
     ]
    }
   ],
   "source": [
    "data = pd.DataFrame({\n",
    "    'id':[1,2,3,4,5],\n",
    "    'name':['John','jane','nikks','Bob','Alice'],\n",
    "    'age' : [25,-31,42,19,37],\n",
    "    'gender':['M','F','M','M','F'],\n",
    "    'income':[50000,70000,np.nan,'30000',60000]\n",
    "})\n",
    "print(\"\\nDataframe before handling incorrect data\")\n",
    "print(data)"
   ]
  },
  {
   "cell_type": "code",
   "execution_count": 15,
   "id": "945433fb",
   "metadata": {},
   "outputs": [
    {
     "name": "stdout",
     "output_type": "stream",
     "text": [
      "   id   name  age gender income\n",
      "0   1   John   25      M  50000\n",
      "2   3  nikks   42      M    NaN\n",
      "3   4    Bob   19      M  30000\n",
      "4   5  Alice   37      F  60000\n",
      "\n",
      "Dataset after handling incorrect data:\n",
      "   id   name  age gender income\n",
      "0   1   John   25      M  50000\n",
      "2   3  nikks   42      M    NaN\n",
      "4   5  Alice   37      F  60000\n"
     ]
    }
   ],
   "source": [
    "# Identify incorrect data\n",
    "incorrect_age = data[(data['age'] <= 0) | (data['age'] > 100)]\n",
    "incorrect_gender = data[~data['gender'].isin (['M','F'])]\n",
    "incorrect_income = data[~data['income'].apply(lambda x:isinstance(x,(int,float)))]\n",
    "\n",
    "# Delete incorrect data\n",
    "print(data)\n",
    "data=data.drop(incorrect_age.index)\n",
    "data=data.drop(incorrect_gender.index)\n",
    "data=data.drop(incorrect_income.index)\n",
    "\n",
    "# Display the cleaned data\n",
    "print('\\nDataset after handling incorrect data:')\n",
    "print(data)"
   ]
  },
  {
   "cell_type": "code",
   "execution_count": 18,
   "id": "6234c4dd",
   "metadata": {},
   "outputs": [
    {
     "name": "stdout",
     "output_type": "stream",
     "text": [
      "\n",
      "Dataframe before handling incorrect data\n",
      "   id   name  age gender income\n",
      "0   1   John   25      M  50000\n",
      "1   2   jane  -31      F  70000\n",
      "2   3  nikks   42      M    NaN\n",
      "3   4    Bob   19      M  30000\n",
      "4   5  Alice   37      F  60000\n"
     ]
    },
    {
     "ename": "KeyError",
     "evalue": "'[1] not found in axis'",
     "output_type": "error",
     "traceback": [
      "\u001b[1;31m---------------------------------------------------------------------------\u001b[0m",
      "\u001b[1;31mKeyError\u001b[0m                                  Traceback (most recent call last)",
      "Cell \u001b[1;32mIn[18], line 20\u001b[0m\n\u001b[0;32m     17\u001b[0m \u001b[38;5;66;03m# Delete incorrect data\u001b[39;00m\n\u001b[0;32m     19\u001b[0m data\u001b[38;5;241m=\u001b[39mdata\u001b[38;5;241m.\u001b[39mdrop(incorrect_age\u001b[38;5;241m.\u001b[39mindex)\n\u001b[1;32m---> 20\u001b[0m data\u001b[38;5;241m=\u001b[39m\u001b[43mdata\u001b[49m\u001b[38;5;241;43m.\u001b[39;49m\u001b[43mdrop\u001b[49m\u001b[43m(\u001b[49m\u001b[43mincorrect_gender\u001b[49m\u001b[38;5;241;43m.\u001b[39;49m\u001b[43mindex\u001b[49m\u001b[43m)\u001b[49m\n\u001b[0;32m     21\u001b[0m data\u001b[38;5;241m=\u001b[39mdata\u001b[38;5;241m.\u001b[39mdrop(incorrect_income\u001b[38;5;241m.\u001b[39mindex)\n\u001b[0;32m     23\u001b[0m \u001b[38;5;66;03m# Display the cleaned data\u001b[39;00m\n",
      "File \u001b[1;32m~\\pydatascience\\env\\Lib\\site-packages\\pandas\\core\\frame.py:5268\u001b[0m, in \u001b[0;36mDataFrame.drop\u001b[1;34m(self, labels, axis, index, columns, level, inplace, errors)\u001b[0m\n\u001b[0;32m   5120\u001b[0m \u001b[38;5;28;01mdef\u001b[39;00m \u001b[38;5;21mdrop\u001b[39m(\n\u001b[0;32m   5121\u001b[0m     \u001b[38;5;28mself\u001b[39m,\n\u001b[0;32m   5122\u001b[0m     labels: IndexLabel \u001b[38;5;241m=\u001b[39m \u001b[38;5;28;01mNone\u001b[39;00m,\n\u001b[1;32m   (...)\u001b[0m\n\u001b[0;32m   5129\u001b[0m     errors: IgnoreRaise \u001b[38;5;241m=\u001b[39m \u001b[38;5;124m\"\u001b[39m\u001b[38;5;124mraise\u001b[39m\u001b[38;5;124m\"\u001b[39m,\n\u001b[0;32m   5130\u001b[0m ) \u001b[38;5;241m-\u001b[39m\u001b[38;5;241m>\u001b[39m DataFrame \u001b[38;5;241m|\u001b[39m \u001b[38;5;28;01mNone\u001b[39;00m:\n\u001b[0;32m   5131\u001b[0m \u001b[38;5;250m    \u001b[39m\u001b[38;5;124;03m\"\"\"\u001b[39;00m\n\u001b[0;32m   5132\u001b[0m \u001b[38;5;124;03m    Drop specified labels from rows or columns.\u001b[39;00m\n\u001b[0;32m   5133\u001b[0m \n\u001b[1;32m   (...)\u001b[0m\n\u001b[0;32m   5266\u001b[0m \u001b[38;5;124;03m            weight  1.0     0.8\u001b[39;00m\n\u001b[0;32m   5267\u001b[0m \u001b[38;5;124;03m    \"\"\"\u001b[39;00m\n\u001b[1;32m-> 5268\u001b[0m     \u001b[38;5;28;01mreturn\u001b[39;00m \u001b[38;5;28;43msuper\u001b[39;49m\u001b[43m(\u001b[49m\u001b[43m)\u001b[49m\u001b[38;5;241;43m.\u001b[39;49m\u001b[43mdrop\u001b[49m\u001b[43m(\u001b[49m\n\u001b[0;32m   5269\u001b[0m \u001b[43m        \u001b[49m\u001b[43mlabels\u001b[49m\u001b[38;5;241;43m=\u001b[39;49m\u001b[43mlabels\u001b[49m\u001b[43m,\u001b[49m\n\u001b[0;32m   5270\u001b[0m \u001b[43m        \u001b[49m\u001b[43maxis\u001b[49m\u001b[38;5;241;43m=\u001b[39;49m\u001b[43maxis\u001b[49m\u001b[43m,\u001b[49m\n\u001b[0;32m   5271\u001b[0m \u001b[43m        \u001b[49m\u001b[43mindex\u001b[49m\u001b[38;5;241;43m=\u001b[39;49m\u001b[43mindex\u001b[49m\u001b[43m,\u001b[49m\n\u001b[0;32m   5272\u001b[0m \u001b[43m        \u001b[49m\u001b[43mcolumns\u001b[49m\u001b[38;5;241;43m=\u001b[39;49m\u001b[43mcolumns\u001b[49m\u001b[43m,\u001b[49m\n\u001b[0;32m   5273\u001b[0m \u001b[43m        \u001b[49m\u001b[43mlevel\u001b[49m\u001b[38;5;241;43m=\u001b[39;49m\u001b[43mlevel\u001b[49m\u001b[43m,\u001b[49m\n\u001b[0;32m   5274\u001b[0m \u001b[43m        \u001b[49m\u001b[43minplace\u001b[49m\u001b[38;5;241;43m=\u001b[39;49m\u001b[43minplace\u001b[49m\u001b[43m,\u001b[49m\n\u001b[0;32m   5275\u001b[0m \u001b[43m        \u001b[49m\u001b[43merrors\u001b[49m\u001b[38;5;241;43m=\u001b[39;49m\u001b[43merrors\u001b[49m\u001b[43m,\u001b[49m\n\u001b[0;32m   5276\u001b[0m \u001b[43m    \u001b[49m\u001b[43m)\u001b[49m\n",
      "File \u001b[1;32m~\\pydatascience\\env\\Lib\\site-packages\\pandas\\core\\generic.py:4549\u001b[0m, in \u001b[0;36mNDFrame.drop\u001b[1;34m(self, labels, axis, index, columns, level, inplace, errors)\u001b[0m\n\u001b[0;32m   4547\u001b[0m \u001b[38;5;28;01mfor\u001b[39;00m axis, labels \u001b[38;5;129;01min\u001b[39;00m axes\u001b[38;5;241m.\u001b[39mitems():\n\u001b[0;32m   4548\u001b[0m     \u001b[38;5;28;01mif\u001b[39;00m labels \u001b[38;5;129;01mis\u001b[39;00m \u001b[38;5;129;01mnot\u001b[39;00m \u001b[38;5;28;01mNone\u001b[39;00m:\n\u001b[1;32m-> 4549\u001b[0m         obj \u001b[38;5;241m=\u001b[39m \u001b[43mobj\u001b[49m\u001b[38;5;241;43m.\u001b[39;49m\u001b[43m_drop_axis\u001b[49m\u001b[43m(\u001b[49m\u001b[43mlabels\u001b[49m\u001b[43m,\u001b[49m\u001b[43m \u001b[49m\u001b[43maxis\u001b[49m\u001b[43m,\u001b[49m\u001b[43m \u001b[49m\u001b[43mlevel\u001b[49m\u001b[38;5;241;43m=\u001b[39;49m\u001b[43mlevel\u001b[49m\u001b[43m,\u001b[49m\u001b[43m \u001b[49m\u001b[43merrors\u001b[49m\u001b[38;5;241;43m=\u001b[39;49m\u001b[43merrors\u001b[49m\u001b[43m)\u001b[49m\n\u001b[0;32m   4551\u001b[0m \u001b[38;5;28;01mif\u001b[39;00m inplace:\n\u001b[0;32m   4552\u001b[0m     \u001b[38;5;28mself\u001b[39m\u001b[38;5;241m.\u001b[39m_update_inplace(obj)\n",
      "File \u001b[1;32m~\\pydatascience\\env\\Lib\\site-packages\\pandas\\core\\generic.py:4591\u001b[0m, in \u001b[0;36mNDFrame._drop_axis\u001b[1;34m(self, labels, axis, level, errors, only_slice)\u001b[0m\n\u001b[0;32m   4589\u001b[0m         new_axis \u001b[38;5;241m=\u001b[39m axis\u001b[38;5;241m.\u001b[39mdrop(labels, level\u001b[38;5;241m=\u001b[39mlevel, errors\u001b[38;5;241m=\u001b[39merrors)\n\u001b[0;32m   4590\u001b[0m     \u001b[38;5;28;01melse\u001b[39;00m:\n\u001b[1;32m-> 4591\u001b[0m         new_axis \u001b[38;5;241m=\u001b[39m \u001b[43maxis\u001b[49m\u001b[38;5;241;43m.\u001b[39;49m\u001b[43mdrop\u001b[49m\u001b[43m(\u001b[49m\u001b[43mlabels\u001b[49m\u001b[43m,\u001b[49m\u001b[43m \u001b[49m\u001b[43merrors\u001b[49m\u001b[38;5;241;43m=\u001b[39;49m\u001b[43merrors\u001b[49m\u001b[43m)\u001b[49m\n\u001b[0;32m   4592\u001b[0m     indexer \u001b[38;5;241m=\u001b[39m axis\u001b[38;5;241m.\u001b[39mget_indexer(new_axis)\n\u001b[0;32m   4594\u001b[0m \u001b[38;5;66;03m# Case for non-unique axis\u001b[39;00m\n\u001b[0;32m   4595\u001b[0m \u001b[38;5;28;01melse\u001b[39;00m:\n",
      "File \u001b[1;32m~\\pydatascience\\env\\Lib\\site-packages\\pandas\\core\\indexes\\base.py:6696\u001b[0m, in \u001b[0;36mIndex.drop\u001b[1;34m(self, labels, errors)\u001b[0m\n\u001b[0;32m   6694\u001b[0m \u001b[38;5;28;01mif\u001b[39;00m mask\u001b[38;5;241m.\u001b[39many():\n\u001b[0;32m   6695\u001b[0m     \u001b[38;5;28;01mif\u001b[39;00m errors \u001b[38;5;241m!=\u001b[39m \u001b[38;5;124m\"\u001b[39m\u001b[38;5;124mignore\u001b[39m\u001b[38;5;124m\"\u001b[39m:\n\u001b[1;32m-> 6696\u001b[0m         \u001b[38;5;28;01mraise\u001b[39;00m \u001b[38;5;167;01mKeyError\u001b[39;00m(\u001b[38;5;124mf\u001b[39m\u001b[38;5;124m\"\u001b[39m\u001b[38;5;132;01m{\u001b[39;00m\u001b[38;5;28mlist\u001b[39m(labels[mask])\u001b[38;5;132;01m}\u001b[39;00m\u001b[38;5;124m not found in axis\u001b[39m\u001b[38;5;124m\"\u001b[39m)\n\u001b[0;32m   6697\u001b[0m     indexer \u001b[38;5;241m=\u001b[39m indexer[\u001b[38;5;241m~\u001b[39mmask]\n\u001b[0;32m   6698\u001b[0m \u001b[38;5;28;01mreturn\u001b[39;00m \u001b[38;5;28mself\u001b[39m\u001b[38;5;241m.\u001b[39mdelete(indexer)\n",
      "\u001b[1;31mKeyError\u001b[0m: '[1] not found in axis'"
     ]
    }
   ],
   "source": [
    "# When we remove tilde = '~' \n",
    "data = pd.DataFrame({\n",
    "    'id':[1,2,3,4,5],\n",
    "    'name':['John','jane','nikks','Bob','Alice'],\n",
    "    'age' : [25,-31,42,19,37],\n",
    "    'gender':['M','F','M','M','F'],\n",
    "    'income':[50000,70000,np.nan,'30000',60000]\n",
    "})\n",
    "print(\"\\nDataframe before handling incorrect data\")\n",
    "print(data)\n",
    "\n",
    "# Identify incorrect data\n",
    "incorrect_age = data[(data['age'] <= 0) | (data['age'] > 100)]\n",
    "incorrect_gender = data[data['gender'].isin (['M','F'])] # no negation '~' is given\n",
    "incorrect_income = data[~data['income'].apply(lambda x:isinstance(x,(int,float)))]\n",
    "\n",
    "# Delete incorrect data\n",
    "\n",
    "data=data.drop(incorrect_age.index)\n",
    "data=data.drop(incorrect_gender.index)\n",
    "data=data.drop(incorrect_income.index)\n",
    "\n",
    "# Display the cleaned data\n",
    "print('\\nDataset after handling incorrect data:')\n",
    "print(data)"
   ]
  },
  {
   "cell_type": "markdown",
   "id": "ecf20949",
   "metadata": {},
   "source": [
    "### Handling inconsistent data"
   ]
  },
  {
   "cell_type": "code",
   "execution_count": 26,
   "id": "f75e4c36",
   "metadata": {},
   "outputs": [
    {
     "name": "stdout",
     "output_type": "stream",
     "text": [
      "Inconsistent datas\n",
      "   id        country        date\n",
      "0   1            USA  2021-01-01\n",
      "1   2          U.S.A  01/01/2021\n",
      "2   3  United States  2021-01-01\n",
      "3   4         Canada  2021-01-01\n",
      "4   5         Mexico  01-01-2021\n",
      "\n",
      " Consistent Data\n",
      "   id country        date\n",
      "0   1      US  2021-01-01\n",
      "1   2      US  2021-01-01\n",
      "2   3      US  2021-01-01\n",
      "3   4      CA  2021-01-01\n",
      "4   5      MX  01-01-2021\n"
     ]
    }
   ],
   "source": [
    "# Create a dummy dataset\n",
    "data = pd.DataFrame({\n",
    "    'id':[1,2,3,4,5],\n",
    "    'country':['USA','U.S.A', 'United States','Canada','Mexico'],\n",
    "    'date':['2021-01-01','01/01/2021','2021-01-01','2021-01-01','01-01-2021']\n",
    "})\n",
    "\n",
    "# Define rules for resolving inconsistencies\n",
    "country_codes = {\n",
    "    'USA':'US',\n",
    "    'U.S.A':'US',\n",
    "    'United States':'US',\n",
    "    'Canada':'CA',\n",
    "    'Mexico':'MX'   \n",
    "}\n",
    "print(\"Inconsistent datas\")\n",
    "print(data)\n",
    "\n",
    "def parse_date(date_str):\n",
    "    if '-' in date_str:\n",
    "        return date_str\n",
    "    elif '/' in date_str:\n",
    "        parts = date_str.split('/')\n",
    "        return f'{parts[2]}-{parts[0]}-{parts[1]}'\n",
    "    else:\n",
    "        parts = date_str.split('-')\n",
    "        return f'{parts[2]}-{parts[1]}-{parts[0]}'\n",
    "# Apply rules to the dataset\n",
    "data['country'] = data['country'].apply(lambda x: country_codes.get(x,x))\n",
    "data['date']= data['date'].apply(parse_date)\n",
    "\n",
    "# Verify the result\n",
    "print('\\n Consistent Data')\n",
    "print(data)"
   ]
  },
  {
   "cell_type": "code",
   "execution_count": null,
   "id": "446a2ef1",
   "metadata": {},
   "outputs": [],
   "source": []
  }
 ],
 "metadata": {
  "kernelspec": {
   "display_name": "Python 3 (ipykernel)",
   "language": "python",
   "name": "python3"
  },
  "language_info": {
   "codemirror_mode": {
    "name": "ipython",
    "version": 3
   },
   "file_extension": ".py",
   "mimetype": "text/x-python",
   "name": "python",
   "nbconvert_exporter": "python",
   "pygments_lexer": "ipython3",
   "version": "3.11.3"
  }
 },
 "nbformat": 4,
 "nbformat_minor": 5
}
