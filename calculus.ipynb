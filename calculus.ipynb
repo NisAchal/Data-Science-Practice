{
 "cells": [
  {
   "cell_type": "code",
   "execution_count": 1,
   "id": "fb3b91fc",
   "metadata": {},
   "outputs": [
    {
     "name": "stdout",
     "output_type": "stream",
     "text": [
      "Collecting sympy\n",
      "  Downloading sympy-1.12-py3-none-any.whl (5.7 MB)\n",
      "                                              0.0/5.7 MB ? eta -:--:--\n",
      "                                              0.0/5.7 MB 1.3 MB/s eta 0:00:05\n",
      "                                              0.1/5.7 MB 1.3 MB/s eta 0:00:05\n",
      "     -                                        0.2/5.7 MB 1.8 MB/s eta 0:00:04\n",
      "     ---                                      0.5/5.7 MB 2.8 MB/s eta 0:00:02\n",
      "     ------                                   0.9/5.7 MB 4.1 MB/s eta 0:00:02\n",
      "     ---------                                1.3/5.7 MB 5.0 MB/s eta 0:00:01\n",
      "     ---------------                          2.2/5.7 MB 7.1 MB/s eta 0:00:01\n",
      "     -----------------                        2.5/5.7 MB 7.3 MB/s eta 0:00:01\n",
      "     -----------------                        2.5/5.7 MB 7.3 MB/s eta 0:00:01\n",
      "     ------------------------------           4.4/5.7 MB 9.7 MB/s eta 0:00:01\n",
      "     -------------------------------------    5.4/5.7 MB 10.7 MB/s eta 0:00:01\n",
      "     ---------------------------------------  5.7/5.7 MB 11.1 MB/s eta 0:00:01\n",
      "     ---------------------------------------- 5.7/5.7 MB 10.2 MB/s eta 0:00:00\n",
      "Collecting mpmath>=0.19 (from sympy)\n",
      "  Downloading mpmath-1.3.0-py3-none-any.whl (536 kB)\n",
      "                                              0.0/536.2 kB ? eta -:--:--\n",
      "     ------------------------------------- 536.2/536.2 kB 32.9 MB/s eta 0:00:00\n",
      "Installing collected packages: mpmath, sympy\n",
      "Successfully installed mpmath-1.3.0 sympy-1.12\n",
      "Note: you may need to restart the kernel to use updated packages.\n"
     ]
    }
   ],
   "source": [
    "pip install sympy"
   ]
  },
  {
   "cell_type": "code",
   "execution_count": 4,
   "id": "cf8fb4c2",
   "metadata": {},
   "outputs": [],
   "source": [
    "import sympy as sp"
   ]
  },
  {
   "cell_type": "code",
   "execution_count": 5,
   "id": "d4a3a46c",
   "metadata": {},
   "outputs": [
    {
     "name": "stdout",
     "output_type": "stream",
     "text": [
      "2\n"
     ]
    }
   ],
   "source": [
    "x = sp.symbols('x')\n",
    "f = (x**2 -1)/(x-1)\n",
    "dfdx = sp.limit(f,x, 1)\n",
    "print(dfdx)"
   ]
  },
  {
   "cell_type": "code",
   "execution_count": 6,
   "id": "d955905f",
   "metadata": {},
   "outputs": [
    {
     "name": "stdout",
     "output_type": "stream",
     "text": [
      "cos(x)\n"
     ]
    }
   ],
   "source": [
    "x = sp.symbols('x')\n",
    "f = sp.sin(x)\n",
    "dfdx= sp.diff(f,x)\n",
    "print(dfdx)"
   ]
  },
  {
   "cell_type": "code",
   "execution_count": null,
   "id": "7b9025c7",
   "metadata": {},
   "outputs": [],
   "source": []
  }
 ],
 "metadata": {
  "kernelspec": {
   "display_name": "Python 3 (ipykernel)",
   "language": "python",
   "name": "python3"
  },
  "language_info": {
   "codemirror_mode": {
    "name": "ipython",
    "version": 3
   },
   "file_extension": ".py",
   "mimetype": "text/x-python",
   "name": "python",
   "nbconvert_exporter": "python",
   "pygments_lexer": "ipython3",
   "version": "3.11.3"
  }
 },
 "nbformat": 4,
 "nbformat_minor": 5
}
