{
 "cells": [
  {
   "cell_type": "markdown",
   "id": "664d714e",
   "metadata": {},
   "source": [
    "# Conditional statement\n",
    "syntax:\n",
    "...python    \n",
    "    if condition:\n",
    "        Do something\n",
    "    else:\n",
    "        Do something Else\n",
    " ...       "
   ]
  },
  {
   "cell_type": "code",
   "execution_count": 6,
   "id": "d9ace09f",
   "metadata": {},
   "outputs": [
    {
     "name": "stdout",
     "output_type": "stream",
     "text": [
      "enter a number:23\n"
     ]
    }
   ],
   "source": [
    "a = int(input('enter a number:')) #by default its data type string "
   ]
  },
  {
   "cell_type": "code",
   "execution_count": 7,
   "id": "d0e37193",
   "metadata": {},
   "outputs": [
    {
     "data": {
      "text/plain": [
       "int"
      ]
     },
     "execution_count": 7,
     "metadata": {},
     "output_type": "execute_result"
    }
   ],
   "source": [
    "type(a)"
   ]
  },
  {
   "cell_type": "code",
   "execution_count": 8,
   "id": "600e7bf2",
   "metadata": {},
   "outputs": [
    {
     "name": "stdout",
     "output_type": "stream",
     "text": [
      "23 is a positive number.\n"
     ]
    }
   ],
   "source": [
    "if a > 0:\n",
    "    print(f'{a} is a positive number.')\n",
    "else:\n",
    "    print(f'{a} is a negative number.')"
   ]
  },
  {
   "cell_type": "markdown",
   "id": "08548ccc",
   "metadata": {},
   "source": [
    "## Multiple condition"
   ]
  },
  {
   "cell_type": "code",
   "execution_count": 9,
   "id": "fc36b6eb",
   "metadata": {},
   "outputs": [
    {
     "name": "stdout",
     "output_type": "stream",
     "text": [
      "23 is a positive number\n"
     ]
    }
   ],
   "source": [
    "if a > 0:\n",
    "    print(f'{a} is a positive number')\n",
    "elif a==0:\n",
    "    print(f'{a} is neither positive nor negative')\n",
    "\n",
    "else:\n",
    "    print('{} is a negative number.'.format(a))"
   ]
  },
  {
   "cell_type": "code",
   "execution_count": 11,
   "id": "bf64aa44",
   "metadata": {},
   "outputs": [
    {
     "name": "stdout",
     "output_type": "stream",
     "text": [
      "enter the number:123\n",
      "123 is a a large positive number.\n"
     ]
    }
   ],
   "source": [
    "a = int(input('enter the number:'))\n",
    "\n",
    "if a > 0:\n",
    "    if a > 100:\n",
    "        print('{} is a a large positive number.'.format(a))\n",
    "    else:\n",
    "        print('{} is a positive number.'.format(a))\n",
    "elif a==0:\n",
    "    print(f'{a} is neither positive nor negative')\n",
    "\n",
    "else:\n",
    "    print('{} is a negative number.'.format(a))"
   ]
  },
  {
   "cell_type": "code",
   "execution_count": 14,
   "id": "ddcbce22",
   "metadata": {},
   "outputs": [
    {
     "name": "stdout",
     "output_type": "stream",
     "text": [
      "enter the number:-234\n",
      "-234 is a large negative number.\n"
     ]
    }
   ],
   "source": [
    "a = int(input('enter the number:'))\n",
    "\n",
    "if a > 0:\n",
    "    if a > 100:\n",
    "        print('{} is a a large positive number.'.format(a))\n",
    "    else:\n",
    "        print('{} is a positive number.'.format(a))\n",
    "elif a==0:\n",
    "    print(f'{a} is neither positive nor negative')\n",
    "\n",
    "else:\n",
    "    if a < -100:\n",
    "        print('{} is a large negative number.'.format(a))\n",
    "    else:\n",
    "        print('{} is a negative number.'.format(a))"
   ]
  },
  {
   "cell_type": "code",
   "execution_count": null,
   "id": "eb3de52f",
   "metadata": {},
   "outputs": [],
   "source": []
  },
  {
   "cell_type": "code",
   "execution_count": null,
   "id": "970f51f1",
   "metadata": {},
   "outputs": [],
   "source": []
  }
 ],
 "metadata": {
  "kernelspec": {
   "display_name": "Python 3 (ipykernel)",
   "language": "python",
   "name": "python3"
  },
  "language_info": {
   "codemirror_mode": {
    "name": "ipython",
    "version": 3
   },
   "file_extension": ".py",
   "mimetype": "text/x-python",
   "name": "python",
   "nbconvert_exporter": "python",
   "pygments_lexer": "ipython3",
   "version": "3.11.3"
  }
 },
 "nbformat": 4,
 "nbformat_minor": 5
}
