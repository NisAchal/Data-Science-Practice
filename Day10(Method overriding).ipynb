{
 "cells": [
  {
   "cell_type": "markdown",
   "id": "3f9f3059",
   "metadata": {},
   "source": [
    "# method overriding"
   ]
  },
  {
   "cell_type": "code",
   "execution_count": 3,
   "id": "47a9b536",
   "metadata": {},
   "outputs": [
    {
     "name": "stdout",
     "output_type": "stream",
     "text": [
      "making some sound\n",
      "Barking\n",
      "meow\n"
     ]
    }
   ],
   "source": [
    "class Animal:\n",
    "    def sound(self):\n",
    "        print(\"making some sound\")\n",
    "class Dog(Animal):\n",
    "    def sound(self):\n",
    "        print(\"Barking\")\n",
    "class Cat(Animal):\n",
    "    def sound(self):\n",
    "        print(\"meow\")\n",
    "#create some object and calling them\n",
    "animal = Animal()\n",
    "dog = Dog()\n",
    "cat = Cat()\n",
    "\n",
    "animal.sound()\n",
    "dog.sound()\n",
    "cat.sound()"
   ]
  },
  {
   "cell_type": "code",
   "execution_count": 10,
   "id": "3e3e348c",
   "metadata": {},
   "outputs": [
    {
     "name": "stdout",
     "output_type": "stream",
     "text": [
      "making some sound\n",
      "base 2 sound\n",
      "Barking\n",
      "making some sound\n"
     ]
    }
   ],
   "source": [
    "class Animal:\n",
    "    def sound(self):\n",
    "        print(\"making some sound\")\n",
    "class Base2:\n",
    "    def sound(self):\n",
    "        print(\"base 2 sound\")\n",
    "class Dog(Animal, Base2): ##Animal class method (sound) override the base class method sound and inherite sound func from Animal class\n",
    "    def speak(self):\n",
    "        print(\"Barking\")\n",
    "    #def sound(self): #class method(instance method) of class cannot be override so this method would get called if execuated\n",
    "       # print(\"woof\")\n",
    "\n",
    "#create some object and calling them\n",
    "animal = Animal()\n",
    "base2 = Base2()\n",
    "dog = Dog()\n",
    "\n",
    "\n",
    "animal.sound()\n",
    "base2.sound()\n",
    "dog.speak()\n",
    "dog.sound()\n"
   ]
  },
  {
   "cell_type": "code",
   "execution_count": 17,
   "id": "7663aba7",
   "metadata": {},
   "outputs": [],
   "source": [
    "class Parent:\n",
    "    def say_hello(self):\n",
    "        print(\"hello from parent\")\n",
    "class Child(Parent):\n",
    "    def say_hello(self):\n",
    "        print(\"hello from child\")\n",
    "        super().say_hello() #calls the overridden method in the parent class\n",
    "        "
   ]
  },
  {
   "cell_type": "code",
   "execution_count": 13,
   "id": "c8b27f9b",
   "metadata": {},
   "outputs": [
    {
     "name": "stdout",
     "output_type": "stream",
     "text": [
      "hello from child\n",
      "hello from parent\n"
     ]
    }
   ],
   "source": [
    "obj = Child()\n",
    "obj.say_hello()"
   ]
  },
  {
   "cell_type": "code",
   "execution_count": null,
   "id": "6676647c",
   "metadata": {},
   "outputs": [],
   "source": []
  },
  {
   "cell_type": "code",
   "execution_count": null,
   "id": "f14eb2b2",
   "metadata": {},
   "outputs": [],
   "source": []
  }
 ],
 "metadata": {
  "kernelspec": {
   "display_name": "Python 3 (ipykernel)",
   "language": "python",
   "name": "python3"
  },
  "language_info": {
   "codemirror_mode": {
    "name": "ipython",
    "version": 3
   },
   "file_extension": ".py",
   "mimetype": "text/x-python",
   "name": "python",
   "nbconvert_exporter": "python",
   "pygments_lexer": "ipython3",
   "version": "3.11.3"
  }
 },
 "nbformat": 4,
 "nbformat_minor": 5
}
