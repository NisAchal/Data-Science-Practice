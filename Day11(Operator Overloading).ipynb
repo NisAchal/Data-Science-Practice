{
 "cells": [
  {
   "cell_type": "markdown",
   "id": "902b52fa",
   "metadata": {},
   "source": [
    "# Operator overloading in python"
   ]
  },
  {
   "cell_type": "code",
   "execution_count": null,
   "id": "003d6d03",
   "metadata": {},
   "outputs": [],
   "source": []
  },
  {
   "cell_type": "code",
   "execution_count": null,
   "id": "c6ec966c",
   "metadata": {},
   "outputs": [],
   "source": []
  },
  {
   "cell_type": "markdown",
   "id": "052c9909",
   "metadata": {},
   "source": [
    "### Without using repr method gives  the object error"
   ]
  },
  {
   "cell_type": "code",
   "execution_count": 5,
   "id": "69c6d630",
   "metadata": {},
   "outputs": [],
   "source": [
    "class Point:\n",
    "    def __init__(self, x, y):\n",
    "        self.x = x\n",
    "        self.y = y\n",
    "    def __add__(self,other):\n",
    "        x = self.x + other.x\n",
    "        y = self.y + other.y\n",
    "        return Point(x,y)\n",
    "    def __sub__(self,other):\n",
    "        x = self.x - other.x\n",
    "        y = self.y - other.y\n",
    "        return Point(x,y)\n",
    "    def __mul__(self,other):\n",
    "         x = self.x * other.x\n",
    "         y = self.y * other.y\n",
    "         return Point(x,y)\n",
    "    def __truediv__(self,other):\n",
    "         x = self.x / other.x\n",
    "         y = self.y / other.y\n",
    "         return Point(x,y)\n",
    "    \n",
    "    def __eq__(self, other):\n",
    "        return self.x == other.x and self.y == other.y\n",
    "    \n",
    "    def __lt__(self, other):\n",
    "        return self.x < other.x and self.y < other.y\n",
    "    "
   ]
  },
  {
   "cell_type": "code",
   "execution_count": 6,
   "id": "6ec95bef",
   "metadata": {},
   "outputs": [
    {
     "name": "stdout",
     "output_type": "stream",
     "text": [
      "<__main__.Point object at 0x0000022576B43850>\n",
      "<__main__.Point object at 0x0000022576B41B50>\n",
      "<__main__.Point object at 0x0000022576B40AD0>\n",
      "<__main__.Point object at 0x000002257561D090>\n",
      "False\n",
      "True\n"
     ]
    }
   ],
   "source": [
    "p1 = Point(3, 4)\n",
    "p2 = Point(5, 6)\n",
    "\n",
    "print (p1 + p2) \n",
    "print(p1 - p2)\n",
    "print(p1 * p2)\n",
    "print(p2 / p1)\n",
    "print(p1 == p2)\n",
    "print(p1 < p2)\n"
   ]
  },
  {
   "cell_type": "markdown",
   "id": "8d503f59",
   "metadata": {},
   "source": [
    "### using __repr__ method to eliminate the object error"
   ]
  },
  {
   "cell_type": "code",
   "execution_count": 7,
   "id": "b4a007b9",
   "metadata": {},
   "outputs": [],
   "source": [
    "class Point:\n",
    "    def __init__(self, x, y):\n",
    "        self.x = x\n",
    "        self.y = y\n",
    "    def __add__(self,other):\n",
    "        x = self.x + other.x\n",
    "        y = self.y + other.y\n",
    "        return Point(x,y)\n",
    "    def __sub__(self,other):\n",
    "        x = self.x - other.x\n",
    "        y = self.y - other.y\n",
    "        return Point(x,y)\n",
    "    def __mul__(self,other):\n",
    "         x = self.x * other.x\n",
    "         y = self.y * other.y\n",
    "         return Point(x,y)\n",
    "    def __truediv__(self,other):\n",
    "         x = self.x / other.x\n",
    "         y = self.y / other.y\n",
    "         return Point(x,y)\n",
    "    \n",
    "    def __eq__(self, other):\n",
    "        return self.x == other.x and self.y == other.y\n",
    "    \n",
    "    def __lt__(self, other):\n",
    "        return self.x < other.x and self.y < other.y\n",
    "    def __repr__(self):\n",
    "        return f\"Point({self.x, self.y})\""
   ]
  },
  {
   "cell_type": "code",
   "execution_count": 8,
   "id": "b934cb4f",
   "metadata": {},
   "outputs": [
    {
     "name": "stdout",
     "output_type": "stream",
     "text": [
      "Point((8, 10))\n",
      "Point((-2, -2))\n",
      "Point((15, 24))\n",
      "Point((1.6666666666666667, 1.5))\n",
      "False\n",
      "True\n"
     ]
    }
   ],
   "source": [
    "p1 = Point(3, 4)\n",
    "p2 = Point(5, 6)\n",
    "\n",
    "print (p1 + p2) \n",
    "print(p1 - p2)\n",
    "print(p1 * p2)\n",
    "print(p2 / p1)\n",
    "print(p1 == p2)\n",
    "print(p1 < p2)"
   ]
  },
  {
   "cell_type": "code",
   "execution_count": null,
   "id": "0b4ebb70",
   "metadata": {},
   "outputs": [],
   "source": []
  },
  {
   "cell_type": "code",
   "execution_count": null,
   "id": "eff74dd9",
   "metadata": {},
   "outputs": [],
   "source": []
  },
  {
   "cell_type": "code",
   "execution_count": null,
   "id": "8f8da461",
   "metadata": {},
   "outputs": [],
   "source": []
  },
  {
   "cell_type": "code",
   "execution_count": null,
   "id": "14d8b04f",
   "metadata": {},
   "outputs": [],
   "source": []
  },
  {
   "cell_type": "code",
   "execution_count": null,
   "id": "b5d4f674",
   "metadata": {},
   "outputs": [],
   "source": []
  },
  {
   "cell_type": "code",
   "execution_count": null,
   "id": "23c61f78",
   "metadata": {},
   "outputs": [],
   "source": []
  },
  {
   "cell_type": "code",
   "execution_count": null,
   "id": "dc45120c",
   "metadata": {},
   "outputs": [],
   "source": []
  }
 ],
 "metadata": {
  "kernelspec": {
   "display_name": "Python 3 (ipykernel)",
   "language": "python",
   "name": "python3"
  },
  "language_info": {
   "codemirror_mode": {
    "name": "ipython",
    "version": 3
   },
   "file_extension": ".py",
   "mimetype": "text/x-python",
   "name": "python",
   "nbconvert_exporter": "python",
   "pygments_lexer": "ipython3",
   "version": "3.11.3"
  }
 },
 "nbformat": 4,
 "nbformat_minor": 5
}
