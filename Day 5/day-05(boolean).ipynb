{
 "cells": [
  {
   "cell_type": "markdown",
   "id": "a92fef35",
   "metadata": {},
   "source": [
    "# Boolean Data Type\n",
    "true or false"
   ]
  },
  {
   "cell_type": "code",
   "execution_count": 1,
   "id": "466312f0",
   "metadata": {},
   "outputs": [],
   "source": [
    "a = 10\n",
    "b = 5"
   ]
  },
  {
   "cell_type": "code",
   "execution_count": 2,
   "id": "ce9bfdd8",
   "metadata": {},
   "outputs": [
    {
     "data": {
      "text/plain": [
       "True"
      ]
     },
     "execution_count": 2,
     "metadata": {},
     "output_type": "execute_result"
    }
   ],
   "source": [
    "a > b"
   ]
  },
  {
   "cell_type": "code",
   "execution_count": 3,
   "id": "990b7e8b",
   "metadata": {},
   "outputs": [
    {
     "data": {
      "text/plain": [
       "False"
      ]
     },
     "execution_count": 3,
     "metadata": {},
     "output_type": "execute_result"
    }
   ],
   "source": [
    "b > a"
   ]
  },
  {
   "cell_type": "markdown",
   "id": "fb357ba9",
   "metadata": {},
   "source": [
    "# Boolean operations\n",
    "'and', 'or' , 'not'"
   ]
  },
  {
   "cell_type": "code",
   "execution_count": 6,
   "id": "b2fdba06",
   "metadata": {},
   "outputs": [],
   "source": [
    "c = True\n",
    "d = False\n",
    "e = True"
   ]
  },
  {
   "cell_type": "code",
   "execution_count": 7,
   "id": "ecabfa96",
   "metadata": {},
   "outputs": [
    {
     "data": {
      "text/plain": [
       "False"
      ]
     },
     "execution_count": 7,
     "metadata": {},
     "output_type": "execute_result"
    }
   ],
   "source": [
    "c and d"
   ]
  },
  {
   "cell_type": "code",
   "execution_count": 9,
   "id": "6189b12a",
   "metadata": {},
   "outputs": [
    {
     "data": {
      "text/plain": [
       "True"
      ]
     },
     "execution_count": 9,
     "metadata": {},
     "output_type": "execute_result"
    }
   ],
   "source": [
    "c and e"
   ]
  },
  {
   "cell_type": "code",
   "execution_count": 10,
   "id": "dbba2cb8",
   "metadata": {},
   "outputs": [
    {
     "data": {
      "text/plain": [
       "True"
      ]
     },
     "execution_count": 10,
     "metadata": {},
     "output_type": "execute_result"
    }
   ],
   "source": [
    "c or d"
   ]
  },
  {
   "cell_type": "code",
   "execution_count": 11,
   "id": "0cd6b86c",
   "metadata": {},
   "outputs": [
    {
     "data": {
      "text/plain": [
       "False"
      ]
     },
     "execution_count": 11,
     "metadata": {},
     "output_type": "execute_result"
    }
   ],
   "source": [
    "not c"
   ]
  },
  {
   "cell_type": "markdown",
   "id": "ce36c8ad",
   "metadata": {},
   "source": [
    "## Playing with data types"
   ]
  },
  {
   "cell_type": "code",
   "execution_count": 12,
   "id": "2cf70d66",
   "metadata": {},
   "outputs": [],
   "source": [
    "a = [] \n",
    "b = [1, 'ab']\n",
    "c = {}\n",
    "d = {1, 2}\n",
    "e = ()\n",
    "f = (3, 4)"
   ]
  },
  {
   "cell_type": "code",
   "execution_count": 13,
   "id": "7db5bb86",
   "metadata": {},
   "outputs": [
    {
     "data": {
      "text/plain": [
       "False"
      ]
     },
     "execution_count": 13,
     "metadata": {},
     "output_type": "execute_result"
    }
   ],
   "source": [
    "bool(a) # 'a' has empty or null value so it gives 'false'"
   ]
  },
  {
   "cell_type": "code",
   "execution_count": 14,
   "id": "a22c4bee",
   "metadata": {},
   "outputs": [
    {
     "data": {
      "text/plain": [
       "True"
      ]
     },
     "execution_count": 14,
     "metadata": {},
     "output_type": "execute_result"
    }
   ],
   "source": [
    "bool(b) #its not empty so it gives 'true'"
   ]
  },
  {
   "cell_type": "code",
   "execution_count": 15,
   "id": "9770cd43",
   "metadata": {},
   "outputs": [
    {
     "data": {
      "text/plain": [
       "False"
      ]
     },
     "execution_count": 15,
     "metadata": {},
     "output_type": "execute_result"
    }
   ],
   "source": [
    "bool(c)"
   ]
  },
  {
   "cell_type": "code",
   "execution_count": 16,
   "id": "ff7b41e7",
   "metadata": {},
   "outputs": [
    {
     "data": {
      "text/plain": [
       "True"
      ]
     },
     "execution_count": 16,
     "metadata": {},
     "output_type": "execute_result"
    }
   ],
   "source": [
    "bool(d)"
   ]
  },
  {
   "cell_type": "code",
   "execution_count": 17,
   "id": "79c12eb0",
   "metadata": {},
   "outputs": [
    {
     "data": {
      "text/plain": [
       "False"
      ]
     },
     "execution_count": 17,
     "metadata": {},
     "output_type": "execute_result"
    }
   ],
   "source": [
    "bool(e)"
   ]
  },
  {
   "cell_type": "code",
   "execution_count": 18,
   "id": "3e54f280",
   "metadata": {},
   "outputs": [
    {
     "data": {
      "text/plain": [
       "True"
      ]
     },
     "execution_count": 18,
     "metadata": {},
     "output_type": "execute_result"
    }
   ],
   "source": [
    "bool(f)"
   ]
  },
  {
   "cell_type": "code",
   "execution_count": null,
   "id": "5aecf2b1",
   "metadata": {},
   "outputs": [],
   "source": []
  }
 ],
 "metadata": {
  "kernelspec": {
   "display_name": "Python 3 (ipykernel)",
   "language": "python",
   "name": "python3"
  },
  "language_info": {
   "codemirror_mode": {
    "name": "ipython",
    "version": 3
   },
   "file_extension": ".py",
   "mimetype": "text/x-python",
   "name": "python",
   "nbconvert_exporter": "python",
   "pygments_lexer": "ipython3",
   "version": "3.11.3"
  }
 },
 "nbformat": 4,
 "nbformat_minor": 5
}
