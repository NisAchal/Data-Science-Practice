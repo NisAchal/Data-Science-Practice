{
 "cells": [
  {
   "cell_type": "markdown",
   "id": "806a07c8",
   "metadata": {},
   "source": [
    "# Magic Method in python"
   ]
  },
  {
   "cell_type": "code",
   "execution_count": 6,
   "id": "def76f8a",
   "metadata": {},
   "outputs": [],
   "source": [
    "class Person:\n",
    "    def __init__(self,name,age):\n",
    "        self.name = name\n",
    "        self.age = age\n",
    "    def __str__(self):\n",
    "        return f\" {self.name} is {self.age} years old\"\n",
    "    def __repr__(self):\n",
    "        return f\"Person({self.name} , {self.age})\"\n",
    "    def __len__(self):\n",
    "        return self.age\n",
    "    def __call__(self):\n",
    "        return self.age, self.name\n",
    "       # return f\"{self.name} is being called\""
   ]
  },
  {
   "cell_type": "code",
   "execution_count": 5,
   "id": "14438580",
   "metadata": {},
   "outputs": [
    {
     "name": "stdout",
     "output_type": "stream",
     "text": [
      " Nischal is 25 years old\n",
      " Nischal is 25 years old\n",
      "Person(Nischal , 25)\n",
      "25\n",
      "Nischal is being called\n"
     ]
    }
   ],
   "source": [
    "person = Person(\"Nischal\", 25)\n",
    "print(person) #print \"Nischal is 25 years old\" --> it take intro of class like __str__\n",
    "print(str(person)) #also prints\"Nischal is 25 years old\" also takes intro of class\n",
    "print(repr(person)) #prints \"person('Nischal',25) used for debugging, gives intro but with values.\n",
    "print(len(person)) #prints 25 \n",
    "print(person()) # it calls the class method of Person __call__ "
   ]
  },
  {
   "cell_type": "code",
   "execution_count": 9,
   "id": "4d23dc5e",
   "metadata": {},
   "outputs": [
    {
     "name": "stdout",
     "output_type": "stream",
     "text": [
      "(30, 'nikke')\n"
     ]
    }
   ],
   "source": [
    "example1 = Person(\"nikke\", 30)  \n",
    "print(example1()) # example1() specifically calls only __call__ method from class Person \n"
   ]
  },
  {
   "cell_type": "markdown",
   "id": "d518b8f4",
   "metadata": {},
   "source": [
    "### without defining __str__"
   ]
  },
  {
   "cell_type": "code",
   "execution_count": 3,
   "id": "6f083b25",
   "metadata": {},
   "outputs": [],
   "source": [
    "class Person:\n",
    "    def __init__(self,name,age):\n",
    "        self.name = name\n",
    "        self.age = age\n",
    "    #def __str__(self):\n",
    "     #   return f\" {self.name} is {self.age} years old\"\n",
    "    def __repr__(self):\n",
    "        return f\"Person({self.name} , {self.age})\"\n",
    "    def __len__(self):\n",
    "        return self.age\n",
    "    def __call__(self):\n",
    "        return self.age, self.name"
   ]
  },
  {
   "cell_type": "code",
   "execution_count": 4,
   "id": "934167cb",
   "metadata": {},
   "outputs": [
    {
     "name": "stdout",
     "output_type": "stream",
     "text": [
      "Person(nikk , 35)\n",
      "Person(nikk , 35)\n"
     ]
    }
   ],
   "source": [
    "example2 = Person(\"nikk\",35)\n",
    "print(str(example2)) #if __str__ is not defined in class but called then it will still passes the value of __repr__ method\n",
    "print(example2)"
   ]
  },
  {
   "cell_type": "markdown",
   "id": "b10125d5",
   "metadata": {},
   "source": [
    "### without defing __repr__"
   ]
  },
  {
   "cell_type": "code",
   "execution_count": 1,
   "id": "94683a3c",
   "metadata": {},
   "outputs": [],
   "source": [
    "class Person:\n",
    "    def __init__(self,name,age):\n",
    "        self.name = name\n",
    "        self.age = age\n",
    "    def __str__(self):\n",
    "        return f\" {self.name} is {self.age} years old\"\n",
    "    #def __repr__(self):\n",
    "     #   return f\"Person({self.name} , {self.age})\"\n",
    "    def __len__(self):\n",
    "        return self.age\n",
    "    def __call__(self):\n",
    "        return self.age, self.name"
   ]
  },
  {
   "cell_type": "code",
   "execution_count": 2,
   "id": "4c47ae2a",
   "metadata": {},
   "outputs": [
    {
     "name": "stdout",
     "output_type": "stream",
     "text": [
      "<__main__.Person object at 0x00000142323D2590>\n",
      " himal is 15 years old\n"
     ]
    }
   ],
   "source": [
    "example3 = Person(\"himal\",15)\n",
    "print(repr(example3)) #if __repr__ is not defined in class but called then it will still passes the value of __str__ method\n",
    "print(example3)\n"
   ]
  },
  {
   "cell_type": "code",
   "execution_count": null,
   "id": "dc16af73",
   "metadata": {},
   "outputs": [],
   "source": []
  }
 ],
 "metadata": {
  "kernelspec": {
   "display_name": "Python 3 (ipykernel)",
   "language": "python",
   "name": "python3"
  },
  "language_info": {
   "codemirror_mode": {
    "name": "ipython",
    "version": 3
   },
   "file_extension": ".py",
   "mimetype": "text/x-python",
   "name": "python",
   "nbconvert_exporter": "python",
   "pygments_lexer": "ipython3",
   "version": "3.11.3"
  }
 },
 "nbformat": 4,
 "nbformat_minor": 5
}
