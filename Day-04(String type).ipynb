{
 "cells": [
  {
   "cell_type": "markdown",
   "id": "94734a0e",
   "metadata": {},
   "source": [
    "## Text Type"
   ]
  },
  {
   "cell_type": "code",
   "execution_count": 2,
   "id": "69d5ed7c",
   "metadata": {},
   "outputs": [],
   "source": [
    "a = \"Hello!\"\n",
    "b = \"World\""
   ]
  },
  {
   "cell_type": "code",
   "execution_count": 3,
   "id": "2b1e6479",
   "metadata": {},
   "outputs": [
    {
     "name": "stdout",
     "output_type": "stream",
     "text": [
      "<class 'str'>\n",
      "<class 'str'>\n"
     ]
    }
   ],
   "source": [
    "print (type(a))\n",
    "print (type(b))"
   ]
  },
  {
   "cell_type": "markdown",
   "id": "f177f9c2",
   "metadata": {},
   "source": [
    "## String Concatenation"
   ]
  },
  {
   "cell_type": "code",
   "execution_count": 4,
   "id": "ab89077b",
   "metadata": {},
   "outputs": [
    {
     "data": {
      "text/plain": [
       "'Hello!World'"
      ]
     },
     "execution_count": 4,
     "metadata": {},
     "output_type": "execute_result"
    }
   ],
   "source": [
    "# +\n",
    "a + b"
   ]
  },
  {
   "cell_type": "code",
   "execution_count": 5,
   "id": "a17abe6b",
   "metadata": {},
   "outputs": [
    {
     "name": "stdout",
     "output_type": "stream",
     "text": [
      "Hello! World Good\n"
     ]
    }
   ],
   "source": [
    "# ,\n",
    "c = 'Good'\n",
    "print(a, b, c)"
   ]
  },
  {
   "cell_type": "markdown",
   "id": "038023f9",
   "metadata": {},
   "source": [
    "## String Method"
   ]
  },
  {
   "cell_type": "code",
   "execution_count": 6,
   "id": "beb97ce5",
   "metadata": {},
   "outputs": [
    {
     "data": {
      "text/plain": [
       "'hello!'"
      ]
     },
     "execution_count": 6,
     "metadata": {},
     "output_type": "execute_result"
    }
   ],
   "source": [
    "a.lower()"
   ]
  },
  {
   "cell_type": "code",
   "execution_count": 7,
   "id": "7fffd13c",
   "metadata": {},
   "outputs": [
    {
     "data": {
      "text/plain": [
       "'Hello!'"
      ]
     },
     "execution_count": 7,
     "metadata": {},
     "output_type": "execute_result"
    }
   ],
   "source": [
    "a.title()"
   ]
  },
  {
   "cell_type": "code",
   "execution_count": 8,
   "id": "9b056e99",
   "metadata": {},
   "outputs": [
    {
     "data": {
      "text/plain": [
       "'HELLO!'"
      ]
     },
     "execution_count": 8,
     "metadata": {},
     "output_type": "execute_result"
    }
   ],
   "source": [
    "a.upper()"
   ]
  },
  {
   "cell_type": "code",
   "execution_count": 61,
   "id": "2a2f51d9",
   "metadata": {},
   "outputs": [
    {
     "data": {
      "text/plain": [
       "6"
      ]
     },
     "execution_count": 61,
     "metadata": {},
     "output_type": "execute_result"
    }
   ],
   "source": [
    "a.index('e')"
   ]
  },
  {
   "cell_type": "code",
   "execution_count": 60,
   "id": "985cd82d",
   "metadata": {},
   "outputs": [
    {
     "data": {
      "text/plain": [
       "'my nami is nischal'"
      ]
     },
     "execution_count": 60,
     "metadata": {},
     "output_type": "execute_result"
    }
   ],
   "source": [
    "a.replace('e', 'i') #to replace between any argument"
   ]
  },
  {
   "cell_type": "code",
   "execution_count": 63,
   "id": "0270604d",
   "metadata": {},
   "outputs": [
    {
     "data": {
      "text/plain": [
       "'my nime is nischil'"
      ]
     },
     "execution_count": 63,
     "metadata": {},
     "output_type": "execute_result"
    }
   ],
   "source": [
    "a.replace('a', 'i')"
   ]
  },
  {
   "cell_type": "code",
   "execution_count": 67,
   "id": "fc1de9c9",
   "metadata": {},
   "outputs": [
    {
     "data": {
      "text/plain": [
       "'my name is nischai'"
      ]
     },
     "execution_count": 67,
     "metadata": {},
     "output_type": "execute_result"
    }
   ],
   "source": [
    "a.replace('l', 'i', 1)"
   ]
  },
  {
   "cell_type": "code",
   "execution_count": 66,
   "id": "39f7c417",
   "metadata": {},
   "outputs": [
    {
     "data": {
      "text/plain": [
       "'Hello!'"
      ]
     },
     "execution_count": 66,
     "metadata": {},
     "output_type": "execute_result"
    }
   ],
   "source": [
    "b = ' Hello! ' #to avoid whitespacing at first and last \n",
    "b.strip()"
   ]
  },
  {
   "cell_type": "code",
   "execution_count": 69,
   "id": "b76cbcb2",
   "metadata": {},
   "outputs": [
    {
     "data": {
      "text/plain": [
       "['Hello!']"
      ]
     },
     "execution_count": 69,
     "metadata": {},
     "output_type": "execute_result"
    }
   ],
   "source": [
    "b.split() #by default the argument is whitespace"
   ]
  },
  {
   "cell_type": "code",
   "execution_count": 68,
   "id": "50443ed9",
   "metadata": {},
   "outputs": [
    {
     "data": {
      "text/plain": [
       "[' H', 'llo! ']"
      ]
     },
     "execution_count": 68,
     "metadata": {},
     "output_type": "execute_result"
    }
   ],
   "source": [
    "b.split('e')"
   ]
  },
  {
   "cell_type": "markdown",
   "id": "9d6955bf",
   "metadata": {},
   "source": [
    "## String Indexing"
   ]
  },
  {
   "cell_type": "code",
   "execution_count": 20,
   "id": "9f44c32a",
   "metadata": {},
   "outputs": [],
   "source": [
    "x = \"my name is nischal\""
   ]
  },
  {
   "cell_type": "code",
   "execution_count": 21,
   "id": "57d70786",
   "metadata": {},
   "outputs": [
    {
     "data": {
      "text/plain": [
       "'s'"
      ]
     },
     "execution_count": 21,
     "metadata": {},
     "output_type": "execute_result"
    }
   ],
   "source": [
    "x[9]"
   ]
  },
  {
   "cell_type": "code",
   "execution_count": null,
   "id": "d6712783",
   "metadata": {},
   "outputs": [],
   "source": []
  },
  {
   "cell_type": "markdown",
   "id": "00878d74",
   "metadata": {},
   "source": [
    "## String Slicing\n"
   ]
  },
  {
   "cell_type": "markdown",
   "id": "f1ade79c",
   "metadata": {},
   "source": [
    "### syntax: [start:stop:step]"
   ]
  },
  {
   "cell_type": "code",
   "execution_count": 22,
   "id": "4eae7ae1",
   "metadata": {},
   "outputs": [],
   "source": [
    "a = \"my name is nischal\""
   ]
  },
  {
   "cell_type": "code",
   "execution_count": 24,
   "id": "38e3c888",
   "metadata": {},
   "outputs": [
    {
     "data": {
      "text/plain": [
       "' sns'"
      ]
     },
     "execution_count": 24,
     "metadata": {},
     "output_type": "execute_result"
    }
   ],
   "source": [
    "a[7:15:2]"
   ]
  },
  {
   "cell_type": "code",
   "execution_count": 23,
   "id": "2986e10c",
   "metadata": {},
   "outputs": [
    {
     "data": {
      "text/plain": [
       "' is'"
      ]
     },
     "execution_count": 23,
     "metadata": {},
     "output_type": "execute_result"
    }
   ],
   "source": [
    "a[7:10]"
   ]
  },
  {
   "cell_type": "code",
   "execution_count": 25,
   "id": "929a56fb",
   "metadata": {},
   "outputs": [
    {
     "data": {
      "text/plain": [
       "'my name is nischal'"
      ]
     },
     "execution_count": 25,
     "metadata": {},
     "output_type": "execute_result"
    }
   ],
   "source": [
    "a[:]"
   ]
  },
  {
   "cell_type": "code",
   "execution_count": 26,
   "id": "d03dc1eb",
   "metadata": {},
   "outputs": [
    {
     "data": {
      "text/plain": [
       "'my na'"
      ]
     },
     "execution_count": 26,
     "metadata": {},
     "output_type": "execute_result"
    }
   ],
   "source": [
    "a[:5]"
   ]
  },
  {
   "cell_type": "code",
   "execution_count": 32,
   "id": "f1cdc6ca",
   "metadata": {},
   "outputs": [
    {
     "data": {
      "text/plain": [
       "'nischal'"
      ]
     },
     "execution_count": 32,
     "metadata": {},
     "output_type": "execute_result"
    }
   ],
   "source": [
    "a[-7:]"
   ]
  },
  {
   "cell_type": "code",
   "execution_count": 34,
   "id": "4187f127",
   "metadata": {},
   "outputs": [
    {
     "data": {
      "text/plain": [
       "'my name is nischa'"
      ]
     },
     "execution_count": 34,
     "metadata": {},
     "output_type": "execute_result"
    }
   ],
   "source": [
    "a[:-1]"
   ]
  },
  {
   "cell_type": "code",
   "execution_count": 35,
   "id": "2783e399",
   "metadata": {},
   "outputs": [
    {
     "data": {
      "text/plain": [
       "'my name is nischa'"
      ]
     },
     "execution_count": 35,
     "metadata": {},
     "output_type": "execute_result"
    }
   ],
   "source": [
    "a[0:-1]"
   ]
  },
  {
   "cell_type": "markdown",
   "id": "86eb109f",
   "metadata": {},
   "source": [
    "## String Formatting"
   ]
  },
  {
   "cell_type": "code",
   "execution_count": 36,
   "id": "dfd463bf",
   "metadata": {},
   "outputs": [],
   "source": [
    "#1. %\n",
    "#2. .format\n",
    "#3 f-string"
   ]
  },
  {
   "cell_type": "code",
   "execution_count": 52,
   "id": "9241a424",
   "metadata": {},
   "outputs": [],
   "source": [
    "age = 23\n",
    "name = 'nischal'"
   ]
  },
  {
   "cell_type": "code",
   "execution_count": 57,
   "id": "d91a7de5",
   "metadata": {},
   "outputs": [],
   "source": [
    "# % operator"
   ]
  },
  {
   "cell_type": "code",
   "execution_count": 58,
   "id": "aa82fcdc",
   "metadata": {},
   "outputs": [
    {
     "name": "stdout",
     "output_type": "stream",
     "text": [
      "my name is nischal and i am 23 years old.\n"
     ]
    }
   ],
   "source": [
    "print(\"my name is %s and i am %s years old.\" %(name, age))"
   ]
  },
  {
   "cell_type": "markdown",
   "id": "c03eb2ff",
   "metadata": {},
   "source": []
  },
  {
   "cell_type": "code",
   "execution_count": null,
   "id": "749d00b5",
   "metadata": {},
   "outputs": [],
   "source": [
    "# .format()"
   ]
  },
  {
   "cell_type": "code",
   "execution_count": 53,
   "id": "6da9d0f0",
   "metadata": {},
   "outputs": [
    {
     "name": "stdout",
     "output_type": "stream",
     "text": [
      "my name is nischal and I am 23 years old.\n"
     ]
    }
   ],
   "source": [
    "print(\"my name is {} and I am {} years old.\".format(name, age))"
   ]
  },
  {
   "cell_type": "code",
   "execution_count": 54,
   "id": "27cdbca1",
   "metadata": {},
   "outputs": [
    {
     "name": "stdout",
     "output_type": "stream",
     "text": [
      "my name is nischal and I am 23 years old.\n"
     ]
    }
   ],
   "source": [
    "print (\"my name is {} and I am {} years old.\".format(name, age))"
   ]
  },
  {
   "cell_type": "code",
   "execution_count": 59,
   "id": "faa09c57",
   "metadata": {},
   "outputs": [
    {
     "name": "stdout",
     "output_type": "stream",
     "text": [
      "my name us nischal and i am 23 years old.\n"
     ]
    }
   ],
   "source": [
    "print(\"my name us {1} and i am {0} years old.\".format(age, name))"
   ]
  },
  {
   "cell_type": "code",
   "execution_count": null,
   "id": "a8c065c8",
   "metadata": {},
   "outputs": [],
   "source": []
  },
  {
   "cell_type": "code",
   "execution_count": 50,
   "id": "7d74e3f7",
   "metadata": {},
   "outputs": [],
   "source": [
    "# f-string"
   ]
  },
  {
   "cell_type": "code",
   "execution_count": 56,
   "id": "15aed064",
   "metadata": {},
   "outputs": [
    {
     "name": "stdout",
     "output_type": "stream",
     "text": [
      "my name is nischal and i am 23 years old.\n"
     ]
    }
   ],
   "source": [
    "print(f\"my name is {name} and i am {age} years old.\")"
   ]
  }
 ],
 "metadata": {
  "kernelspec": {
   "display_name": "Python 3 (ipykernel)",
   "language": "python",
   "name": "python3"
  },
  "language_info": {
   "codemirror_mode": {
    "name": "ipython",
    "version": 3
   },
   "file_extension": ".py",
   "mimetype": "text/x-python",
   "name": "python",
   "nbconvert_exporter": "python",
   "pygments_lexer": "ipython3",
   "version": "3.11.3"
  }
 },
 "nbformat": 4,
 "nbformat_minor": 5
}
