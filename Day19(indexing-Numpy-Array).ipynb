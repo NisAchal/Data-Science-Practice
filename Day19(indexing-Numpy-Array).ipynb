{
 "cells": [
  {
   "cell_type": "markdown",
   "id": "68545218",
   "metadata": {},
   "source": [
    "## Indexing Nupmy Array\n",
    "#### 1D Array: array_name[idx] (similar to python list)\n",
    "#### 2D Array: array_name[ row_idx, col_idx ] (similar to matrix)\n",
    "#### 1D Array: array_name[ dim1idx, dim2_idx,......, dimx_idx] (similar to )"
   ]
  },
  {
   "cell_type": "markdown",
   "id": "fac22bea",
   "metadata": {},
   "source": [
    "#### one Dimensional"
   ]
  },
  {
   "cell_type": "code",
   "execution_count": 17,
   "id": "1fd73137",
   "metadata": {},
   "outputs": [],
   "source": [
    "\n",
    "list1 = [1,2,3,4]"
   ]
  },
  {
   "cell_type": "code",
   "execution_count": 6,
   "id": "f1b97c7d",
   "metadata": {},
   "outputs": [
    {
     "name": "stdout",
     "output_type": "stream",
     "text": [
      "3\n"
     ]
    }
   ],
   "source": [
    "print(list1[2])"
   ]
  },
  {
   "cell_type": "code",
   "execution_count": 7,
   "id": "906c924f",
   "metadata": {},
   "outputs": [],
   "source": [
    "import numpy as np"
   ]
  },
  {
   "cell_type": "code",
   "execution_count": 8,
   "id": "8cf60408",
   "metadata": {},
   "outputs": [],
   "source": [
    "array1= np.array(list1)"
   ]
  },
  {
   "cell_type": "code",
   "execution_count": 10,
   "id": "64465c62",
   "metadata": {},
   "outputs": [
    {
     "data": {
      "text/plain": [
       "3"
      ]
     },
     "execution_count": 10,
     "metadata": {},
     "output_type": "execute_result"
    }
   ],
   "source": [
    "array1[2]"
   ]
  },
  {
   "cell_type": "markdown",
   "id": "670f8e8a",
   "metadata": {},
   "source": [
    "#### Multi Dimensional"
   ]
  },
  {
   "cell_type": "code",
   "execution_count": 14,
   "id": "b9da7bbd",
   "metadata": {},
   "outputs": [],
   "source": [
    "list2 = [[1,2,3,4], [2,3,7,8]]"
   ]
  },
  {
   "cell_type": "code",
   "execution_count": 22,
   "id": "43bb1b40",
   "metadata": {},
   "outputs": [
    {
     "data": {
      "text/plain": [
       "8"
      ]
     },
     "execution_count": 22,
     "metadata": {},
     "output_type": "execute_result"
    }
   ],
   "source": [
    "list2[1][3]"
   ]
  },
  {
   "cell_type": "code",
   "execution_count": 18,
   "id": "c2cc2452",
   "metadata": {},
   "outputs": [],
   "source": [
    "array2 = np.array(list2)"
   ]
  },
  {
   "cell_type": "code",
   "execution_count": 19,
   "id": "2f5f6825",
   "metadata": {},
   "outputs": [
    {
     "data": {
      "text/plain": [
       "array([[1, 2, 3, 4],\n",
       "       [2, 3, 7, 8]])"
      ]
     },
     "execution_count": 19,
     "metadata": {},
     "output_type": "execute_result"
    }
   ],
   "source": [
    "array2"
   ]
  },
  {
   "cell_type": "code",
   "execution_count": 20,
   "id": "ae380880",
   "metadata": {},
   "outputs": [
    {
     "data": {
      "text/plain": [
       "8"
      ]
     },
     "execution_count": 20,
     "metadata": {},
     "output_type": "execute_result"
    }
   ],
   "source": [
    "array2[1][3]"
   ]
  },
  {
   "cell_type": "code",
   "execution_count": 21,
   "id": "d5959533",
   "metadata": {},
   "outputs": [
    {
     "data": {
      "text/plain": [
       "8"
      ]
     },
     "execution_count": 21,
     "metadata": {},
     "output_type": "execute_result"
    }
   ],
   "source": [
    "array2[1,3]"
   ]
  },
  {
   "cell_type": "code",
   "execution_count": null,
   "id": "fc76ecbd",
   "metadata": {},
   "outputs": [],
   "source": []
  }
 ],
 "metadata": {
  "kernelspec": {
   "display_name": "Python 3 (ipykernel)",
   "language": "python",
   "name": "python3"
  },
  "language_info": {
   "codemirror_mode": {
    "name": "ipython",
    "version": 3
   },
   "file_extension": ".py",
   "mimetype": "text/x-python",
   "name": "python",
   "nbconvert_exporter": "python",
   "pygments_lexer": "ipython3",
   "version": "3.11.3"
  }
 },
 "nbformat": 4,
 "nbformat_minor": 5
}
