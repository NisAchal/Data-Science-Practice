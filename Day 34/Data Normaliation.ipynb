{
 "cells": [
  {
   "cell_type": "markdown",
   "id": "3a43f7db",
   "metadata": {},
   "source": [
    "### Handling data normaliztion"
   ]
  },
  {
   "cell_type": "code",
   "execution_count": 1,
   "id": "a105b59e",
   "metadata": {},
   "outputs": [],
   "source": [
    "import pandas as pd\n",
    "import numpy as np"
   ]
  },
  {
   "cell_type": "code",
   "execution_count": 2,
   "id": "62633949",
   "metadata": {},
   "outputs": [],
   "source": [
    "# Create a dummy dataset\n",
    "data = pd.DataFrame({\n",
    "    'id':[1,2,3,4,5],\n",
    "    'value':[10,20,30,40,50]\n",
    "})"
   ]
  },
  {
   "cell_type": "code",
   "execution_count": 13,
   "id": "4d4508e1",
   "metadata": {},
   "outputs": [],
   "source": [
    "# Perform min-max normalization\n",
    "data['value_norm_minmax'] = (data['value']- data['value'].min()) / (data['value'].max() - data['value'].min())"
   ]
  },
  {
   "cell_type": "code",
   "execution_count": 14,
   "id": "c213b5f6",
   "metadata": {},
   "outputs": [],
   "source": [
    "# Perform Z-score normalization\n",
    "data['value_norm_zscore'] = (data['value']- data['value'].mean()) / (data['value'].std())"
   ]
  },
  {
   "cell_type": "code",
   "execution_count": 15,
   "id": "8052ab1c",
   "metadata": {},
   "outputs": [],
   "source": [
    "# Perform Log Normalization \n",
    "data['value_norm_log'] = np.log(data['value'])"
   ]
  },
  {
   "cell_type": "code",
   "execution_count": 16,
   "id": "73002535",
   "metadata": {},
   "outputs": [
    {
     "name": "stdout",
     "output_type": "stream",
     "text": [
      "   id  value  value_norm_minmax  value_norm_power  value_norm_zscore   \n",
      "0   1     10               0.00          3.162278          -1.264911  \\\n",
      "1   2     20               0.25          4.472136          -0.632456   \n",
      "2   3     30               0.50          5.477226           0.000000   \n",
      "3   4     40               0.75          6.324555           0.632456   \n",
      "4   5     50               1.00          7.071068           1.264911   \n",
      "\n",
      "   value_norm_log  \n",
      "0        2.302585  \n",
      "1        2.995732  \n",
      "2        3.401197  \n",
      "3        3.688879  \n",
      "4        3.912023  \n"
     ]
    }
   ],
   "source": [
    "# Perform power normalization with a = 0.5\n",
    "data['value_norm_power'] = np.sign(data['value']) * np.power(np.abs(data['value']), 0.5)\n",
    "\n",
    "#Print the desulting dataframe\n",
    "print(data)"
   ]
  },
  {
   "cell_type": "code",
   "execution_count": null,
   "id": "56011edd",
   "metadata": {},
   "outputs": [],
   "source": []
  },
  {
   "cell_type": "code",
   "execution_count": null,
   "id": "7544808c",
   "metadata": {},
   "outputs": [],
   "source": []
  }
 ],
 "metadata": {
  "kernelspec": {
   "display_name": "Python 3 (ipykernel)",
   "language": "python",
   "name": "python3"
  },
  "language_info": {
   "codemirror_mode": {
    "name": "ipython",
    "version": 3
   },
   "file_extension": ".py",
   "mimetype": "text/x-python",
   "name": "python",
   "nbconvert_exporter": "python",
   "pygments_lexer": "ipython3",
   "version": "3.11.3"
  }
 },
 "nbformat": 4,
 "nbformat_minor": 5
}
