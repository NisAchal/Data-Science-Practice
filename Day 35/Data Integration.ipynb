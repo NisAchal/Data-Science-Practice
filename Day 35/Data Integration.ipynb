{
 "cells": [
  {
   "cell_type": "code",
   "execution_count": 1,
   "id": "013e10ad",
   "metadata": {},
   "outputs": [],
   "source": [
    "import pandas as pd"
   ]
  },
  {
   "cell_type": "markdown",
   "id": "7b74c3f9",
   "metadata": {},
   "source": [
    "## Concatenation"
   ]
  },
  {
   "cell_type": "code",
   "execution_count": 2,
   "id": "2ffc811a",
   "metadata": {},
   "outputs": [
    {
     "name": "stdout",
     "output_type": "stream",
     "text": [
      "Concatenation by Row:\n",
      "    A  B\n",
      "0  1  4\n",
      "1  2  5\n",
      "2  3  6\n",
      "0  4  7\n",
      "1  5  8\n",
      "2  6  9\n",
      "Concatenation by Column:\n",
      "    A  B  A  B\n",
      "0  1  4  4  7\n",
      "1  2  5  5  8\n",
      "2  3  6  6  9\n"
     ]
    }
   ],
   "source": [
    "# Create two sample dataframe\n",
    "df1 = pd.DataFrame({ 'A':[1,2,3], 'B':[4,5,6]})\n",
    "df2 = pd.DataFrame({ 'A':[4,5,6], 'B':[7,8,9]})\n",
    "# Concatenate dataframe along row(axix=0)\n",
    "row_concatenated = pd.concat([df1,df2],axis=0)\n",
    "# Concatenate dataframe along column(axix=1)\n",
    "col_concatenated = pd.concat([df1,df2],axis=1)\n",
    "#print the concatenated dataframe\n",
    "print('Concatenation by Row:\\n',row_concatenated)\n",
    "print('Concatenation by Column:\\n',col_concatenated)"
   ]
  },
  {
   "cell_type": "code",
   "execution_count": 4,
   "id": "656aef68",
   "metadata": {},
   "outputs": [
    {
     "name": "stdout",
     "output_type": "stream",
     "text": [
      "Concatenation by Row:\n",
      "      A    B    C    D\n",
      "0  1.0  4.0  NaN  NaN\n",
      "1  2.0  5.0  NaN  NaN\n",
      "2  3.0  6.0  NaN  NaN\n",
      "0  4.0  7.0  NaN  NaN\n",
      "1  5.0  8.0  NaN  NaN\n",
      "2  6.0  9.0  NaN  NaN\n",
      "0  NaN  NaN  5.0  8.0\n",
      "1  NaN  NaN  6.0  9.0\n",
      "\n",
      "Concatenation by Column:\n",
      "    A  B  A  B    C    D\n",
      "0  1  4  4  7  5.0  8.0\n",
      "1  2  5  5  8  6.0  9.0\n",
      "2  3  6  6  9  NaN  NaN\n"
     ]
    }
   ],
   "source": [
    "# create two sample dataframes\n",
    "df1 = pd.DataFrame({'A': [1, 2, 3], 'B': [4, 5, 6]})\n",
    "df2 = pd.DataFrame({'A': [4, 5, 6], 'B': [7, 8, 9]})\n",
    "df3 = pd.DataFrame({'C': [5, 6], 'D': [8, 9]})\n",
    "\n",
    "# concatenate dataframes along rows (axis=0)\n",
    "row_concatenated = pd.concat([df1, df2, df3], axis=0)\n",
    "\n",
    "# concatenate dataframes along columns (axis=1)\n",
    "col_concatenated = pd.concat([df1, df2, df3], axis=1)\n",
    "\n",
    "# print the concatenated dataframes\n",
    "print(\"Concatenation by Row:\\n\", row_concatenated)\n",
    "print(\"\\nConcatenation by Column:\\n\", col_concatenated)"
   ]
  },
  {
   "cell_type": "markdown",
   "id": "c3713061",
   "metadata": {},
   "source": [
    "## Merging"
   ]
  },
  {
   "cell_type": "code",
   "execution_count": 5,
   "id": "5d86332d",
   "metadata": {},
   "outputs": [
    {
     "name": "stdout",
     "output_type": "stream",
     "text": [
      "  key  value_x  value_y\n",
      "0   B        2        5\n",
      "1   D        4        6\n"
     ]
    }
   ],
   "source": [
    "# create two sample dataframes\n",
    "df1 = pd.DataFrame({'key': ['A', 'B', 'C', 'D'], 'value': [1, 2, 3, 4]})\n",
    "df2 = pd.DataFrame({'key': ['B', 'D', 'E', 'F'], 'value': [5, 6, 7, 8]})\n",
    "\n",
    "# merge dataframes on 'key' column\n",
    "merged = pd.merge(df1, df2, on='key')\n",
    "\n",
    "# print the merged dataframe\n",
    "print(merged)"
   ]
  },
  {
   "cell_type": "markdown",
   "id": "669db1e8",
   "metadata": {},
   "source": [
    "## Joining"
   ]
  },
  {
   "cell_type": "code",
   "execution_count": 7,
   "id": "3fefd02b",
   "metadata": {},
   "outputs": [
    {
     "name": "stdout",
     "output_type": "stream",
     "text": [
      "   A  B  C   D\n",
      "X  1  4  7  10\n",
      "Y  2  5  8  11\n",
      "Z  3  6  9  12\n"
     ]
    }
   ],
   "source": [
    "# create two sample dataframes\n",
    "df1 = pd.DataFrame({'A': [1, 2, 3], 'B': [4, 5, 6]}, index=['X', 'Y', 'Z'])\n",
    "df2 = pd.DataFrame({'C': [7, 8, 9], 'D': [10, 11, 12]}, index=['X', 'Y', 'Z'])\n",
    "\n",
    "# join dataframes\n",
    "joined = df1.join(df2)\n",
    "\n",
    "# print the joined dataframe\n",
    "print(joined)"
   ]
  },
  {
   "cell_type": "markdown",
   "id": "1b26d8ad",
   "metadata": {},
   "source": [
    "## Stacking"
   ]
  },
  {
   "cell_type": "code",
   "execution_count": 8,
   "id": "fd1ee044",
   "metadata": {},
   "outputs": [
    {
     "name": "stdout",
     "output_type": "stream",
     "text": [
      "X  A    1\n",
      "   B    4\n",
      "Y  A    2\n",
      "   B    5\n",
      "Z  A    3\n",
      "   B    6\n",
      "dtype: int64\n"
     ]
    }
   ],
   "source": [
    "# create a dataframe to be stacked\n",
    "df = pd.DataFrame({'A': [1, 2, 3], 'B': [4, 5, 6]}, index=['X', 'Y', 'Z'])\n",
    "\n",
    "# stack the dataframe\n",
    "result = df.stack()\n",
    "\n",
    "# print the result\n",
    "print(result)"
   ]
  },
  {
   "cell_type": "code",
   "execution_count": null,
   "id": "7d012895",
   "metadata": {},
   "outputs": [],
   "source": []
  }
 ],
 "metadata": {
  "kernelspec": {
   "display_name": "Python 3 (ipykernel)",
   "language": "python",
   "name": "python3"
  },
  "language_info": {
   "codemirror_mode": {
    "name": "ipython",
    "version": 3
   },
   "file_extension": ".py",
   "mimetype": "text/x-python",
   "name": "python",
   "nbconvert_exporter": "python",
   "pygments_lexer": "ipython3",
   "version": "3.11.3"
  }
 },
 "nbformat": 4,
 "nbformat_minor": 5
}
