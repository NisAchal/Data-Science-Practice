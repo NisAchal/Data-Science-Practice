{
 "cells": [
  {
   "cell_type": "markdown",
   "id": "abe9848e",
   "metadata": {},
   "source": [
    "# Slicing In Numpy"
   ]
  },
  {
   "cell_type": "markdown",
   "id": "2b66b619",
   "metadata": {},
   "source": [
    "### One dimensional "
   ]
  },
  {
   "cell_type": "code",
   "execution_count": 3,
   "id": "a42389f6",
   "metadata": {},
   "outputs": [],
   "source": [
    "import numpy as np"
   ]
  },
  {
   "cell_type": "code",
   "execution_count": 7,
   "id": "88ea708f",
   "metadata": {},
   "outputs": [
    {
     "data": {
      "text/plain": [
       "[2, 3]"
      ]
     },
     "execution_count": 7,
     "metadata": {},
     "output_type": "execute_result"
    }
   ],
   "source": [
    "list1 = [1,2,3,4,5,6,7,8,9]\n",
    "list1[1:3:]"
   ]
  },
  {
   "cell_type": "code",
   "execution_count": 8,
   "id": "653ff765",
   "metadata": {},
   "outputs": [],
   "source": [
    "array1 = np.array(list1)"
   ]
  },
  {
   "cell_type": "code",
   "execution_count": 9,
   "id": "dd0eccf1",
   "metadata": {},
   "outputs": [
    {
     "data": {
      "text/plain": [
       "array([2, 4, 6])"
      ]
     },
     "execution_count": 9,
     "metadata": {},
     "output_type": "execute_result"
    }
   ],
   "source": [
    "array1[1:7:2]"
   ]
  },
  {
   "cell_type": "markdown",
   "id": "06315c1f",
   "metadata": {},
   "source": [
    "### Multi Dimensional"
   ]
  },
  {
   "cell_type": "code",
   "execution_count": 18,
   "id": "50a20bfe",
   "metadata": {},
   "outputs": [],
   "source": [
    "list2 = [[1,2,3,4,5,6,7,8], [1,3,5,7,9,11,13,15]]"
   ]
  },
  {
   "cell_type": "code",
   "execution_count": 20,
   "id": "a52eb741",
   "metadata": {},
   "outputs": [
    {
     "data": {
      "text/plain": [
       "[6, 7, 8]"
      ]
     },
     "execution_count": 20,
     "metadata": {},
     "output_type": "execute_result"
    }
   ],
   "source": [
    "list2[0][5:9]"
   ]
  },
  {
   "cell_type": "code",
   "execution_count": 21,
   "id": "919ce937",
   "metadata": {},
   "outputs": [],
   "source": [
    "array2 = np.array(list2)"
   ]
  },
  {
   "cell_type": "code",
   "execution_count": 25,
   "id": "b0ecae0b",
   "metadata": {},
   "outputs": [
    {
     "data": {
      "text/plain": [
       "array([[ 1,  2,  3,  4,  5,  6,  7,  8],\n",
       "       [ 1,  3,  5,  7,  9, 11, 13, 15]])"
      ]
     },
     "execution_count": 25,
     "metadata": {},
     "output_type": "execute_result"
    }
   ],
   "source": [
    "array2"
   ]
  },
  {
   "cell_type": "code",
   "execution_count": 56,
   "id": "5f4e132d",
   "metadata": {},
   "outputs": [
    {
     "data": {
      "text/plain": [
       "[array([2, 4, 6, 8]), array([ 3,  7, 11, 15])]"
      ]
     },
     "execution_count": 56,
     "metadata": {},
     "output_type": "execute_result"
    }
   ],
   "source": [
    "arr1 = [i[1::2] for i in array2] #using loop for slicing\n",
    "#arr2 = [i[0::2] for i in array2]\n",
    "arr1\n",
    "#arr2\n"
   ]
  },
  {
   "cell_type": "code",
   "execution_count": null,
   "id": "fdce9920",
   "metadata": {},
   "outputs": [],
   "source": []
  },
  {
   "cell_type": "code",
   "execution_count": 43,
   "id": "565b79be",
   "metadata": {},
   "outputs": [
    {
     "data": {
      "text/plain": [
       "array([[ 2,  4,  6,  8],\n",
       "       [ 3,  7, 11, 15]])"
      ]
     },
     "execution_count": 43,
     "metadata": {},
     "output_type": "execute_result"
    }
   ],
   "source": [
    "array2[:,1::2]"
   ]
  },
  {
   "cell_type": "code",
   "execution_count": 23,
   "id": "f69a7b23",
   "metadata": {},
   "outputs": [
    {
     "data": {
      "text/plain": [
       "array([6, 7, 8])"
      ]
     },
     "execution_count": 23,
     "metadata": {},
     "output_type": "execute_result"
    }
   ],
   "source": [
    "array2[0][5:]"
   ]
  },
  {
   "cell_type": "code",
   "execution_count": 24,
   "id": "13a54ef6",
   "metadata": {},
   "outputs": [
    {
     "data": {
      "text/plain": [
       "array([6, 7, 8])"
      ]
     },
     "execution_count": 24,
     "metadata": {},
     "output_type": "execute_result"
    }
   ],
   "source": [
    "array2[0,5:]"
   ]
  },
  {
   "cell_type": "code",
   "execution_count": 49,
   "id": "7fff097e",
   "metadata": {},
   "outputs": [],
   "source": [
    "list3 = [[1,2,3,4,5,6,7,8],[1,3,5,7,9,11,13,15],[15,25,9999,376,19,420,786,555]]"
   ]
  },
  {
   "cell_type": "code",
   "execution_count": 50,
   "id": "f0a07abe",
   "metadata": {},
   "outputs": [],
   "source": [
    "array3 = np.array(list3)"
   ]
  },
  {
   "cell_type": "code",
   "execution_count": 51,
   "id": "b05304c5",
   "metadata": {},
   "outputs": [
    {
     "data": {
      "text/plain": [
       "array([[   1,    2,    3,    4,    5,    6,    7,    8],\n",
       "       [   1,    3,    5,    7,    9,   11,   13,   15],\n",
       "       [  15,   25, 9999,  376,   19,  420,  786,  555]])"
      ]
     },
     "execution_count": 51,
     "metadata": {},
     "output_type": "execute_result"
    }
   ],
   "source": [
    "array3"
   ]
  },
  {
   "cell_type": "code",
   "execution_count": 55,
   "id": "a7551afa",
   "metadata": {},
   "outputs": [
    {
     "data": {
      "text/plain": [
       "array([[  9,  11,  13],\n",
       "       [ 19, 420, 786]])"
      ]
     },
     "execution_count": 55,
     "metadata": {},
     "output_type": "execute_result"
    }
   ],
   "source": [
    "array3[1:,4:7:1]"
   ]
  },
  {
   "cell_type": "code",
   "execution_count": 66,
   "id": "788ef94f",
   "metadata": {},
   "outputs": [
    {
     "data": {
      "text/plain": [
       "(3, 8)"
      ]
     },
     "execution_count": 66,
     "metadata": {},
     "output_type": "execute_result"
    }
   ],
   "source": [
    "array3.shape"
   ]
  },
  {
   "cell_type": "code",
   "execution_count": 70,
   "id": "e87b99c9",
   "metadata": {},
   "outputs": [],
   "source": [
    "list4 = [\n",
    "    [[1,2,3,4], [5,6,7,8]],\n",
    "    [[1,3,5,7],[9,11,13,15]],\n",
    "    [[15,25,9999,376],[19,420,786,555]]\n",
    "        ]"
   ]
  },
  {
   "cell_type": "code",
   "execution_count": 71,
   "id": "debe3474",
   "metadata": {},
   "outputs": [],
   "source": [
    "array4 = np.array(list4)"
   ]
  },
  {
   "cell_type": "code",
   "execution_count": 72,
   "id": "8b81f042",
   "metadata": {},
   "outputs": [
    {
     "data": {
      "text/plain": [
       "(3, 2, 4)"
      ]
     },
     "execution_count": 72,
     "metadata": {},
     "output_type": "execute_result"
    }
   ],
   "source": [
    "array4.shape"
   ]
  },
  {
   "cell_type": "code",
   "execution_count": 74,
   "id": "ccaff762",
   "metadata": {},
   "outputs": [
    {
     "data": {
      "text/plain": [
       "3"
      ]
     },
     "execution_count": 74,
     "metadata": {},
     "output_type": "execute_result"
    }
   ],
   "source": [
    "array4.ndim"
   ]
  },
  {
   "cell_type": "code",
   "execution_count": 75,
   "id": "bf0a442b",
   "metadata": {},
   "outputs": [
    {
     "data": {
      "text/plain": [
       "array([[[ 2,  3],\n",
       "        [ 6,  7]],\n",
       "\n",
       "       [[ 3,  5],\n",
       "        [11, 13]]])"
      ]
     },
     "execution_count": 75,
     "metadata": {},
     "output_type": "execute_result"
    }
   ],
   "source": [
    "array4[:2,:,1:3]"
   ]
  },
  {
   "cell_type": "code",
   "execution_count": null,
   "id": "f7d08ff5",
   "metadata": {},
   "outputs": [],
   "source": []
  }
 ],
 "metadata": {
  "kernelspec": {
   "display_name": "Python 3 (ipykernel)",
   "language": "python",
   "name": "python3"
  },
  "language_info": {
   "codemirror_mode": {
    "name": "ipython",
    "version": 3
   },
   "file_extension": ".py",
   "mimetype": "text/x-python",
   "name": "python",
   "nbconvert_exporter": "python",
   "pygments_lexer": "ipython3",
   "version": "3.11.3"
  }
 },
 "nbformat": 4,
 "nbformat_minor": 5
}
