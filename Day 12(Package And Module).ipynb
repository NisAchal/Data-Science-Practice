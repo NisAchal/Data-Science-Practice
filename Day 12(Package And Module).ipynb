{
 "cells": [
  {
   "cell_type": "markdown",
   "id": "022a563a",
   "metadata": {},
   "source": [
    "Package And Module\n"
   ]
  },
  {
   "cell_type": "markdown",
   "id": "bb9ecb24",
   "metadata": {},
   "source": [
    "#### math module"
   ]
  },
  {
   "cell_type": "code",
   "execution_count": 1,
   "id": "4ce35b5c",
   "metadata": {},
   "outputs": [],
   "source": [
    "import math"
   ]
  },
  {
   "cell_type": "code",
   "execution_count": 4,
   "id": "7d3cb7a1",
   "metadata": {},
   "outputs": [
    {
     "name": "stdout",
     "output_type": "stream",
     "text": [
      "8.0\n",
      "7.0\n",
      "3\n",
      "-5\n",
      "-4\n",
      "4.9\n"
     ]
    }
   ],
   "source": [
    "print(math.pow(2, 3))\n",
    "print(math.sqrt(49))\n",
    "print(math.ceil(2.3))\n",
    "print(math.floor(-4.9))\n",
    "print(math.trunc(-4.9))\n",
    "print(math.fabs(-4.9))"
   ]
  },
  {
   "cell_type": "markdown",
   "id": "ff7d2956",
   "metadata": {},
   "source": [
    "Trigonometric operation"
   ]
  },
  {
   "cell_type": "code",
   "execution_count": 6,
   "id": "d98cc922",
   "metadata": {},
   "outputs": [],
   "source": [
    "import math"
   ]
  },
  {
   "cell_type": "code",
   "execution_count": 14,
   "id": "10ecd0b5",
   "metadata": {},
   "outputs": [
    {
     "name": "stdout",
     "output_type": "stream",
     "text": [
      "1.0\n",
      "6.123233995736766e-17\n",
      "1.633123935319537e+16\n",
      "3.141592653589793\n",
      "90.0\n",
      "5.0\n",
      "3.141592653589793\n",
      "2.718281828459045\n",
      "inf\n",
      "nan\n",
      "6.283185307179586\n"
     ]
    }
   ],
   "source": [
    "print(math.sin(math.pi/2))\n",
    "print(math.cos(math.pi/2))\n",
    "print(math.tan(math.pi/2))\n",
    "print(math.radians(180))\n",
    "print(math.degrees(math.pi/2))\n",
    "print(math.hypot(3, 4))\n",
    "\n",
    "#Exponential and log operation\n",
    "print(math.pi)\n",
    "print(math.e)\n",
    "print(math.inf)\n",
    "print(math.nan)\n",
    "print(math.tau) # tau = 2*pi"
   ]
  },
  {
   "cell_type": "markdown",
   "id": "e76a7193",
   "metadata": {},
   "source": []
  },
  {
   "cell_type": "code",
   "execution_count": 17,
   "id": "32e81521",
   "metadata": {},
   "outputs": [
    {
     "name": "stdout",
     "output_type": "stream",
     "text": [
      "120\n",
      "10\n",
      "True\n",
      "4\n",
      "5.196152422706632\n",
      "0.5204998778130465\n",
      "24.0\n",
      "60\n"
     ]
    }
   ],
   "source": [
    "print(math.factorial(5))\n",
    "print(math.comb(5, 2))\n",
    "print(math.isclose(0.1 + 0.2, 0.3))\n",
    "print(math.isqrt(16))\n",
    "p = (1, 2, 3)\n",
    "q= (4, 5, 6)\n",
    "\n",
    "print(math.dist(p, q))\n",
    "print(math.erf(0.5))\n",
    "print(math.gamma(5))\n",
    "print(math.perm(5, 3))"
   ]
  },
  {
   "cell_type": "code",
   "execution_count": null,
   "id": "c346cd05",
   "metadata": {},
   "outputs": [],
   "source": []
  },
  {
   "cell_type": "code",
   "execution_count": null,
   "id": "3698bf55",
   "metadata": {},
   "outputs": [],
   "source": []
  },
  {
   "cell_type": "code",
   "execution_count": null,
   "id": "bd4ee0d4",
   "metadata": {},
   "outputs": [],
   "source": []
  },
  {
   "cell_type": "code",
   "execution_count": null,
   "id": "7e7e195c",
   "metadata": {},
   "outputs": [],
   "source": []
  },
  {
   "cell_type": "code",
   "execution_count": null,
   "id": "1be66254",
   "metadata": {},
   "outputs": [],
   "source": []
  }
 ],
 "metadata": {
  "kernelspec": {
   "display_name": "Python 3 (ipykernel)",
   "language": "python",
   "name": "python3"
  },
  "language_info": {
   "codemirror_mode": {
    "name": "ipython",
    "version": 3
   },
   "file_extension": ".py",
   "mimetype": "text/x-python",
   "name": "python",
   "nbconvert_exporter": "python",
   "pygments_lexer": "ipython3",
   "version": "3.11.3"
  }
 },
 "nbformat": 4,
 "nbformat_minor": 5
}
