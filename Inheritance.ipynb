{
 "cells": [
  {
   "cell_type": "markdown",
   "id": "f81c5156",
   "metadata": {},
   "source": [
    "# inheritance"
   ]
  },
  {
   "cell_type": "markdown",
   "id": "f505a745",
   "metadata": {},
   "source": [
    "## Single Inheritance"
   ]
  },
  {
   "cell_type": "code",
   "execution_count": 1,
   "id": "5691400b",
   "metadata": {},
   "outputs": [],
   "source": [
    "class Animal:\n",
    "    def __init__(self, name, age):\n",
    "        self.name = name\n",
    "        self.age = age\n",
    "    def intro(self):\n",
    "         #print(f'{self.name} is {self.age} years old and {self.color} in color')\n",
    "         print(f'{my_cat.name} is {my_cat.age} years old and {my_cat.color} in color')\n",
    "class Cat(Animal):\n",
    "    def __init__(self, name, age, color):\n",
    "        super().__init__(name, age)\n",
    "        self.color = color\n",
    "        \n",
    "    def speak(self):\n",
    "        print(\"meow\")"
   ]
  },
  {
   "cell_type": "code",
   "execution_count": 2,
   "id": "061cf89b",
   "metadata": {},
   "outputs": [
    {
     "name": "stdout",
     "output_type": "stream",
     "text": [
      "fluffy\n",
      "6\n",
      "black\n",
      "meow\n",
      "fluffy is 6 years old and black in color\n"
     ]
    }
   ],
   "source": [
    "my_cat = Cat(\"fluffy\", 6, \"black\")\n",
    "\n",
    "print(my_cat.name)\n",
    "print(my_cat.age)\n",
    "print(my_cat.color)\n",
    "my_cat.speak()\n",
    "my_cat.intro()"
   ]
  },
  {
   "cell_type": "code",
   "execution_count": 10,
   "id": "0b4bb37a",
   "metadata": {},
   "outputs": [],
   "source": [
    "animal = Animal(\"tiger\", 8)"
   ]
  },
  {
   "cell_type": "code",
   "execution_count": 7,
   "id": "2cbc8f95",
   "metadata": {},
   "outputs": [
    {
     "name": "stdout",
     "output_type": "stream",
     "text": [
      "tiger\n",
      "8\n"
     ]
    }
   ],
   "source": [
    "print(animal.name)\n",
    "print(animal.age)"
   ]
  },
  {
   "cell_type": "code",
   "execution_count": 13,
   "id": "f9c411a6",
   "metadata": {},
   "outputs": [
    {
     "ename": "AttributeError",
     "evalue": "'Animal' object has no attribute 'color'",
     "output_type": "error",
     "traceback": [
      "\u001b[1;31m---------------------------------------------------------------------------\u001b[0m",
      "\u001b[1;31mAttributeError\u001b[0m                            Traceback (most recent call last)",
      "Cell \u001b[1;32mIn[13], line 1\u001b[0m\n\u001b[1;32m----> 1\u001b[0m \u001b[38;5;28mprint\u001b[39m(\u001b[43manimal\u001b[49m\u001b[38;5;241;43m.\u001b[39;49m\u001b[43mcolor\u001b[49m) \u001b[38;5;66;03m#parent cannot access attribute of child \"'Animal' object has no attribute 'self'\"\u001b[39;00m\n",
      "\u001b[1;31mAttributeError\u001b[0m: 'Animal' object has no attribute 'color'"
     ]
    }
   ],
   "source": [
    "print(animal.color) #parent cannot access attribute of child \"'Animal' object has no attribute 'self'\""
   ]
  },
  {
   "cell_type": "markdown",
   "id": "acf7afc5",
   "metadata": {},
   "source": [
    "## multiple Inheritance\n",
    "(parent1, parent2)--> child"
   ]
  },
  {
   "cell_type": "code",
   "execution_count": 3,
   "id": "631442d8",
   "metadata": {},
   "outputs": [],
   "source": [
    "#method resolution order needs to be kept in mind in multiple inheritance\n",
    "class Parent1:\n",
    "    def func1(self):\n",
    "        print(\"this is parent 1 function\")\n",
    "class Parent2:\n",
    "    def func2(self):\n",
    "        print(\"this is parent 2\")\n",
    "class child(Parent1, Parent2):\n",
    "    def func3(self):\n",
    "        print(\"this is child\")\n"
   ]
  },
  {
   "cell_type": "code",
   "execution_count": 6,
   "id": "43da439c",
   "metadata": {},
   "outputs": [
    {
     "name": "stdout",
     "output_type": "stream",
     "text": [
      "this is parent 1 function\n",
      "this is parent 2\n",
      "this is child\n"
     ]
    }
   ],
   "source": [
    "#creating obj object for child class\n",
    "obj = child()\n",
    "#i\n",
    "obj.func1()\n",
    "obj.func2()\n",
    "obj.func3()"
   ]
  },
  {
   "cell_type": "code",
   "execution_count": 4,
   "id": "989a7c5c",
   "metadata": {},
   "outputs": [
    {
     "name": "stdout",
     "output_type": "stream",
     "text": [
      "this is parent 1 function\n"
     ]
    }
   ],
   "source": [
    "child().func1()"
   ]
  },
  {
   "cell_type": "code",
   "execution_count": null,
   "id": "d73bad0a",
   "metadata": {},
   "outputs": [],
   "source": [
    "class Aminal:\n",
    "    def __init__(self,name,age):\n",
    "        self.name = name\n",
    "        self.age = age\n",
    "    def weight(self):\n",
    "        print('')"
   ]
  },
  {
   "cell_type": "code",
   "execution_count": null,
   "id": "fd720c77",
   "metadata": {},
   "outputs": [],
   "source": []
  },
  {
   "cell_type": "code",
   "execution_count": null,
   "id": "7bd9ef37",
   "metadata": {},
   "outputs": [],
   "source": []
  },
  {
   "cell_type": "code",
   "execution_count": null,
   "id": "3ee07a50",
   "metadata": {},
   "outputs": [],
   "source": []
  },
  {
   "cell_type": "markdown",
   "id": "1e1428d4",
   "metadata": {},
   "source": [
    "## Multi level Inheritance"
   ]
  },
  {
   "cell_type": "code",
   "execution_count": 7,
   "id": "52717896",
   "metadata": {},
   "outputs": [
    {
     "name": "stdout",
     "output_type": "stream",
     "text": [
      "this is grandfather\n",
      "this is father\n",
      "this is son\n"
     ]
    }
   ],
   "source": [
    "class A:\n",
    "    def grandfather(slef):\n",
    "        print(\"this is grandfather\")\n",
    "class B(A):\n",
    "    def father(self):\n",
    "        print(\"this is father\")\n",
    "class C(B):\n",
    "    def son(self):\n",
    "        print(\"this is son\")\n",
    "obj = C()\n",
    "obj.grandfather()\n",
    "obj.father()\n",
    "obj.son()\n"
   ]
  },
  {
   "cell_type": "code",
   "execution_count": null,
   "id": "d49ee449",
   "metadata": {},
   "outputs": [],
   "source": [
    "#__init__ and super() using\n",
    "class A:\n",
    "    def grandfather(slef, caste, name):\n",
    "        \n",
    "        print(\"this is grandfather\")\n",
    "class B(A):\n",
    "    def father(self):\n",
    "        print(\"this is father\")\n",
    "class C(B):\n",
    "    def son(self):\n",
    "        print(\"this is son\")\n",
    "obj = C()\n",
    "obj.grandfather()\n",
    "obj.father()\n",
    "obj.son()\n"
   ]
  },
  {
   "cell_type": "markdown",
   "id": "d8ecbafe",
   "metadata": {},
   "source": [
    "## hierarchial inheritance\n",
    "\n"
   ]
  },
  {
   "cell_type": "code",
   "execution_count": 36,
   "id": "a2138f34",
   "metadata": {},
   "outputs": [
    {
     "name": "stdout",
     "output_type": "stream",
     "text": [
      "woorrooorroo woof mewo\n",
      "simba\n"
     ]
    }
   ],
   "source": [
    "class Animal:\n",
    "    def __init__(self,name):\n",
    "        self.name = name\n",
    "    def intro(selt):\n",
    "        print(f'{self.name} is the name of animal')\n",
    "class Cat(Animal):\n",
    "    def speak(self):\n",
    "        return \"mewo\"\n",
    "class Dog(Animal):\n",
    "    def speak(self):\n",
    "        return \"woof\"\n",
    "class Lion(Animal):\n",
    "    def speak(self):\n",
    "        return \"woorrooorroo\"\n",
    "lion = Lion(\"simba\")\n",
    "dog = Dog(\"fluffy\")\n",
    "cat = Cat(\"pussy\")\n",
    "\n",
    "print(lion.speak() ,dog.speak(), cat.speak())\n",
    "print(lion.name)"
   ]
  },
  {
   "cell_type": "markdown",
   "id": "2da4fd9d",
   "metadata": {},
   "source": [
    "## Hybrid Inheritance"
   ]
  },
  {
   "cell_type": "code",
   "execution_count": 29,
   "id": "fff4ec84",
   "metadata": {},
   "outputs": [],
   "source": [
    "class Animal:\n",
    "    def __init__(self,name):\n",
    "        self.name = name\n",
    "    def speak(self):\n",
    "        print(f'{self.name} is speaking')\n",
    "class Mammal(Animal):\n",
    "    def __init__(self,name):\n",
    "        super().__init__(name)\n",
    "    def feed_milk(self):\n",
    "        print(f'{self.name} is feeding milk')\n",
    "class Bird(Animal):\n",
    "    def __init__(self, name):\n",
    "        super().__init__(name)\n",
    "    def fly(self):\n",
    "        print(f'{self.name} is flying')\n",
    "class Bat(Mammal,Bird): #it uses multiple and multilevel inheritance\n",
    "    def __init__(self,name):\n",
    "        super().__init__(name)\n",
    "    \n"
   ]
  },
  {
   "cell_type": "code",
   "execution_count": 26,
   "id": "f5e25b40",
   "metadata": {},
   "outputs": [
    {
     "name": "stdout",
     "output_type": "stream",
     "text": [
      "Bruce is speaking\n",
      "Bruce is feeding milk\n",
      "Bruce is flying\n"
     ]
    }
   ],
   "source": [
    "b = Bat(\"Bruce\")\n",
    "b.speak()\n",
    "b.feed_milk()\n",
    "b.fly()"
   ]
  },
  {
   "cell_type": "code",
   "execution_count": null,
   "id": "c10f2d56",
   "metadata": {},
   "outputs": [],
   "source": []
  },
  {
   "cell_type": "code",
   "execution_count": null,
   "id": "1af39869",
   "metadata": {},
   "outputs": [],
   "source": []
  }
 ],
 "metadata": {
  "kernelspec": {
   "display_name": "Python 3 (ipykernel)",
   "language": "python",
   "name": "python3"
  },
  "language_info": {
   "codemirror_mode": {
    "name": "ipython",
    "version": 3
   },
   "file_extension": ".py",
   "mimetype": "text/x-python",
   "name": "python",
   "nbconvert_exporter": "python",
   "pygments_lexer": "ipython3",
   "version": "3.11.3"
  }
 },
 "nbformat": 4,
 "nbformat_minor": 5
}
