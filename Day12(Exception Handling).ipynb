{
 "cells": [
  {
   "cell_type": "markdown",
   "id": "97dab9a8",
   "metadata": {},
   "source": [
    "## Error Handling"
   ]
  },
  {
   "cell_type": "code",
   "execution_count": 4,
   "id": "da471abb",
   "metadata": {},
   "outputs": [
    {
     "name": "stdout",
     "output_type": "stream",
     "text": [
      "enter a numberabc\n",
      "Invalid input\n"
     ]
    }
   ],
   "source": [
    "try:\n",
    "    num = int(input(\"enter a number\"))\n",
    "    print(num)\n",
    "except ValueError:\n",
    "    print(\"Invalid input\")\n"
   ]
  },
  {
   "cell_type": "code",
   "execution_count": null,
   "id": "46ad52cc",
   "metadata": {},
   "outputs": [],
   "source": [
    "try:\n",
    "    num = int(input(\"enter a number\"))\n",
    "    print(num)\n",
    "except ValueError:\n",
    "    print(\"Invalid input\")\n",
    "    "
   ]
  },
  {
   "cell_type": "code",
   "execution_count": 5,
   "id": "b4828b66",
   "metadata": {},
   "outputs": [
    {
     "name": "stdout",
     "output_type": "stream",
     "text": [
      "enter a numberabc\n",
      "Invalid data type\n"
     ]
    }
   ],
   "source": [
    "try:\n",
    "    inp = input(\"enter a number\")\n",
    "    num = int(inp)\n",
    "    print(num)\n",
    "except ValueError:\n",
    "    print(\"Invalid data type\")"
   ]
  },
  {
   "cell_type": "code",
   "execution_count": 10,
   "id": "12805012",
   "metadata": {},
   "outputs": [
    {
     "name": "stdout",
     "output_type": "stream",
     "text": [
      "enter the number: \n",
      "Invalid data type! Required: int or float type! \n"
     ]
    }
   ],
   "source": [
    "try:\n",
    "    int(input(\"enter the number: \"))\n",
    "    int(input(\"enter another number: \"))\n",
    "    result = num1 / num2\n",
    "    print(result)\n",
    "except ValueError:\n",
    "    print(\"Invalid data type! Required: int or float type! \")"
   ]
  },
  {
   "cell_type": "code",
   "execution_count": 13,
   "id": "6fee42df",
   "metadata": {},
   "outputs": [
    {
     "name": "stdout",
     "output_type": "stream",
     "text": [
      "this can handle all the exception but we wont know which specific error occured\n"
     ]
    }
   ],
   "source": [
    "num_str = \"abc\"\n",
    "try:\n",
    "    num = int(num_str)\n",
    "    print(num)\n",
    "except Exception:\n",
    "    print(\"this can handle all the exception but we wont know which specific error occured\")\n",
    "    "
   ]
  },
  {
   "cell_type": "code",
   "execution_count": 14,
   "id": "cc728525",
   "metadata": {},
   "outputs": [
    {
     "name": "stdout",
     "output_type": "stream",
     "text": [
      "invalid literal for int() with base 10: 'abc'\n"
     ]
    }
   ],
   "source": [
    "num_str = \"abc\"\n",
    "try:\n",
    "    num = int(num_str)\n",
    "    print(num)\n",
    "except Exception as e:\n",
    "    print(e)\n",
    "    "
   ]
  },
  {
   "cell_type": "markdown",
   "id": "572f34f5",
   "metadata": {},
   "source": [
    "### The else Block"
   ]
  },
  {
   "cell_type": "code",
   "execution_count": 17,
   "id": "b5c58c18",
   "metadata": {},
   "outputs": [
    {
     "name": "stdout",
     "output_type": "stream",
     "text": [
      "enter a number: 7\n",
      "enter another number: 0\n",
      "cannot divided by zero\n"
     ]
    }
   ],
   "source": [
    "try:\n",
    "    num1 = int(input(\"enter a number: \"))\n",
    "    num2 = int(input(\"enter another number: \"))\n",
    "    result= num1/num2\n",
    "except ZeroDivisionError:\n",
    "    print(\"cannot divided by zero\")\n",
    "else:\n",
    "    print(\"the result is\", result)"
   ]
  },
  {
   "cell_type": "code",
   "execution_count": 18,
   "id": "0242ff46",
   "metadata": {},
   "outputs": [
    {
     "name": "stdout",
     "output_type": "stream",
     "text": [
      "enter a number: 7\n",
      "enter another number: 0\n",
      "cannot divided by zero\n"
     ]
    }
   ],
   "source": [
    "#this code is identical to above \n",
    "try:\n",
    "    num1 = int(input(\"enter a number: \"))\n",
    "    num2 = int(input(\"enter another number: \"))\n",
    "    result= num1/num2\n",
    "    print(\"the result is\", result)\n",
    "except ZeroDivisionError:\n",
    "    print(\"cannot divided by zero\")\n",
    "    "
   ]
  },
  {
   "cell_type": "markdown",
   "id": "2a949d25",
   "metadata": {},
   "source": [
    "### The finally Block"
   ]
  },
  {
   "cell_type": "code",
   "execution_count": 2,
   "id": "30b38c9b",
   "metadata": {},
   "outputs": [
    {
     "name": "stdout",
     "output_type": "stream",
     "text": [
      "enter a number: 5\n",
      "enter another number: 0\n",
      "cannot be divided by zero\n",
      "this block is always execuated\n"
     ]
    }
   ],
   "source": [
    "try:\n",
    "    x = int(input(\"enter a number: \"))\n",
    "    y = int(input(\"enter another number: \"))\n",
    "    z = x/y\n",
    "except ZeroDivisionError:\n",
    "    print(\"cannot be divided by zero\")\n",
    "   # print(\"And the reslut is\", z)\n",
    "finally:\n",
    "    print(\"this block is always execuated\")\n",
    "    #print(\"And the reslut is\", z)"
   ]
  },
  {
   "cell_type": "markdown",
   "id": "55a2b0f1",
   "metadata": {},
   "source": [
    "### Exception Generation\n",
    "##### Raise Statement:\n",
    " To create our own type error"
   ]
  },
  {
   "cell_type": "code",
   "execution_count": 8,
   "id": "0731ae63",
   "metadata": {},
   "outputs": [
    {
     "ename": "ValueError",
     "evalue": "x should not be greater than 5",
     "output_type": "error",
     "traceback": [
      "\u001b[1;31m---------------------------------------------------------------------------\u001b[0m",
      "\u001b[1;31mValueError\u001b[0m                                Traceback (most recent call last)",
      "Cell \u001b[1;32mIn[8], line 3\u001b[0m\n\u001b[0;32m      1\u001b[0m x \u001b[38;5;241m=\u001b[39m \u001b[38;5;241m10\u001b[39m\n\u001b[0;32m      2\u001b[0m \u001b[38;5;28;01mif\u001b[39;00m x \u001b[38;5;241m>\u001b[39m \u001b[38;5;241m5\u001b[39m:\n\u001b[1;32m----> 3\u001b[0m     \u001b[38;5;28;01mraise\u001b[39;00m \u001b[38;5;167;01mValueError\u001b[39;00m(\u001b[38;5;124m\"\u001b[39m\u001b[38;5;124mx should not be greater than 5\u001b[39m\u001b[38;5;124m\"\u001b[39m)\n",
      "\u001b[1;31mValueError\u001b[0m: x should not be greater than 5"
     ]
    }
   ],
   "source": [
    "x = 10\n",
    "if x > 5:\n",
    "    raise ValueError(\"x should not be greater than 5\")"
   ]
  },
  {
   "cell_type": "code",
   "execution_count": 12,
   "id": "a48d4265",
   "metadata": {},
   "outputs": [
    {
     "ename": "ValueError",
     "evalue": "",
     "output_type": "error",
     "traceback": [
      "\u001b[1;31m---------------------------------------------------------------------------\u001b[0m",
      "\u001b[1;31mValueError\u001b[0m                                Traceback (most recent call last)",
      "Cell \u001b[1;32mIn[12], line 1\u001b[0m\n\u001b[1;32m----> 1\u001b[0m \u001b[38;5;28;01mraise\u001b[39;00m \u001b[38;5;167;01mValueError\u001b[39;00m\n",
      "\u001b[1;31mValueError\u001b[0m: "
     ]
    }
   ],
   "source": [
    "raise ValueError"
   ]
  },
  {
   "cell_type": "code",
   "execution_count": null,
   "id": "ac2f9ff3",
   "metadata": {},
   "outputs": [],
   "source": []
  },
  {
   "cell_type": "code",
   "execution_count": 10,
   "id": "027f2ab3",
   "metadata": {},
   "outputs": [],
   "source": [
    "# creating custome exception class\n",
    "class MyException(Exception):\n",
    "    pass"
   ]
  },
  {
   "cell_type": "code",
   "execution_count": 11,
   "id": "098a1d7b",
   "metadata": {},
   "outputs": [
    {
     "ename": "MyException",
     "evalue": "this is my custom exception",
     "output_type": "error",
     "traceback": [
      "\u001b[1;31m---------------------------------------------------------------------------\u001b[0m",
      "\u001b[1;31mMyException\u001b[0m                               Traceback (most recent call last)",
      "Cell \u001b[1;32mIn[11], line 1\u001b[0m\n\u001b[1;32m----> 1\u001b[0m \u001b[38;5;28;01mraise\u001b[39;00m MyException(\u001b[38;5;124m\"\u001b[39m\u001b[38;5;124mthis is my custom exception\u001b[39m\u001b[38;5;124m\"\u001b[39m)\n",
      "\u001b[1;31mMyException\u001b[0m: this is my custom exception"
     ]
    }
   ],
   "source": [
    "raise MyException(\"this is my custom exception\")"
   ]
  },
  {
   "cell_type": "code",
   "execution_count": null,
   "id": "02f3b54a",
   "metadata": {},
   "outputs": [],
   "source": [
    "#to add additional args to my custom exception\n",
    "class MyException"
   ]
  },
  {
   "cell_type": "code",
   "execution_count": 14,
   "id": "769cb2e2",
   "metadata": {},
   "outputs": [
    {
     "name": "stdout",
     "output_type": "stream",
     "text": [
      "Caught exception: this is a test exception\n"
     ]
    }
   ],
   "source": [
    "# creating our own exception and handling it \n",
    "try:\n",
    "    raise ValueError(\"this is a test exception\")\n",
    "except ValueError as e:\n",
    "    print('Caught exception:',e)"
   ]
  }
 ],
 "metadata": {
  "kernelspec": {
   "display_name": "Python 3 (ipykernel)",
   "language": "python",
   "name": "python3"
  },
  "language_info": {
   "codemirror_mode": {
    "name": "ipython",
    "version": 3
   },
   "file_extension": ".py",
   "mimetype": "text/x-python",
   "name": "python",
   "nbconvert_exporter": "python",
   "pygments_lexer": "ipython3",
   "version": "3.11.3"
  }
 },
 "nbformat": 4,
 "nbformat_minor": 5
}
