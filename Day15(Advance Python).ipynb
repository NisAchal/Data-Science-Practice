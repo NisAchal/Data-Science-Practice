{
 "cells": [
  {
   "cell_type": "markdown",
   "id": "0cfc404f",
   "metadata": {},
   "source": [
    "# Decorator"
   ]
  },
  {
   "cell_type": "code",
   "execution_count": 22,
   "id": "48c640a0",
   "metadata": {},
   "outputs": [],
   "source": [
    "def my_decorator(func):\n",
    "    def wrapper():\n",
    "        print(\"Before function execuation\")\n",
    "        func()\n",
    "        print(\"After function execuation\")\n",
    "        return 'hello'\n",
    "    return wrapper"
   ]
  },
  {
   "cell_type": "code",
   "execution_count": 23,
   "id": "7c98b9c9",
   "metadata": {},
   "outputs": [],
   "source": [
    "@my_decorator #it must be same as decorator name from above\n",
    "def say_hello():\n",
    "    print(\"hello, world\")"
   ]
  },
  {
   "cell_type": "code",
   "execution_count": 24,
   "id": "31fb8d1b",
   "metadata": {},
   "outputs": [
    {
     "name": "stdout",
     "output_type": "stream",
     "text": [
      "Before function execuation\n",
      "hello, world\n",
      "After function execuation\n"
     ]
    },
    {
     "data": {
      "text/plain": [
       "'hello'"
      ]
     },
     "execution_count": 24,
     "metadata": {},
     "output_type": "execute_result"
    }
   ],
   "source": [
    "say_hello()"
   ]
  },
  {
   "cell_type": "code",
   "execution_count": 25,
   "id": "7f6e2327",
   "metadata": {},
   "outputs": [],
   "source": [
    "abc = my_decorator(say_hello)"
   ]
  },
  {
   "cell_type": "code",
   "execution_count": 29,
   "id": "39ddc12a",
   "metadata": {},
   "outputs": [
    {
     "name": "stdout",
     "output_type": "stream",
     "text": [
      "Before function execuation\n",
      "Before function execuation\n",
      "hello, world\n",
      "After function execuation\n",
      "After function execuation\n",
      "hello\n"
     ]
    }
   ],
   "source": [
    "print(abc())"
   ]
  },
  {
   "cell_type": "markdown",
   "id": "9e33b653",
   "metadata": {},
   "source": [
    "-------------------------------------------------"
   ]
  },
  {
   "cell_type": "code",
   "execution_count": 34,
   "id": "9f8f16f9",
   "metadata": {},
   "outputs": [],
   "source": [
    "def new_decorator(func):\n",
    "    def new_func():\n",
    "        count = 0\n",
    "        i = [1,2,3,4,5,6]\n",
    "        if i in range(10):\n",
    "            count += i\n",
    "            print(\" count is\" %d (count))\n",
    "            return count\n",
    "        print(\"before count\")\n",
    "        func()\n",
    "        return 'please count'\n",
    "        \n",
    "    return new_func\n",
    "@new_decorator\n",
    "def count_num():\n",
    "    print(\" count is\"%d(count))"
   ]
  },
  {
   "cell_type": "code",
   "execution_count": 35,
   "id": "03b26886",
   "metadata": {},
   "outputs": [
    {
     "name": "stdout",
     "output_type": "stream",
     "text": [
      "before count\n"
     ]
    },
    {
     "ename": "NameError",
     "evalue": "name 'd' is not defined",
     "output_type": "error",
     "traceback": [
      "\u001b[1;31m---------------------------------------------------------------------------\u001b[0m",
      "\u001b[1;31mNameError\u001b[0m                                 Traceback (most recent call last)",
      "Cell \u001b[1;32mIn[35], line 1\u001b[0m\n\u001b[1;32m----> 1\u001b[0m \u001b[43mcount_num\u001b[49m\u001b[43m(\u001b[49m\u001b[43m)\u001b[49m\n",
      "Cell \u001b[1;32mIn[34], line 10\u001b[0m, in \u001b[0;36mnew_decorator.<locals>.new_func\u001b[1;34m()\u001b[0m\n\u001b[0;32m      8\u001b[0m     \u001b[38;5;28;01mreturn\u001b[39;00m count\n\u001b[0;32m      9\u001b[0m \u001b[38;5;28mprint\u001b[39m(\u001b[38;5;124m\"\u001b[39m\u001b[38;5;124mbefore count\u001b[39m\u001b[38;5;124m\"\u001b[39m)\n\u001b[1;32m---> 10\u001b[0m \u001b[43mfunc\u001b[49m\u001b[43m(\u001b[49m\u001b[43m)\u001b[49m\n\u001b[0;32m     11\u001b[0m \u001b[38;5;28;01mreturn\u001b[39;00m \u001b[38;5;124m'\u001b[39m\u001b[38;5;124mplease count\u001b[39m\u001b[38;5;124m'\u001b[39m\n",
      "Cell \u001b[1;32mIn[34], line 16\u001b[0m, in \u001b[0;36mcount_num\u001b[1;34m()\u001b[0m\n\u001b[0;32m     14\u001b[0m \u001b[38;5;129m@new_decorator\u001b[39m\n\u001b[0;32m     15\u001b[0m \u001b[38;5;28;01mdef\u001b[39;00m \u001b[38;5;21mcount_num\u001b[39m():\n\u001b[1;32m---> 16\u001b[0m     \u001b[38;5;28mprint\u001b[39m(\u001b[38;5;124m\"\u001b[39m\u001b[38;5;124m count is\u001b[39m\u001b[38;5;124m\"\u001b[39m\u001b[38;5;241m%\u001b[39m\u001b[43md\u001b[49m(count))\n",
      "\u001b[1;31mNameError\u001b[0m: name 'd' is not defined"
     ]
    }
   ],
   "source": [
    "count_num()"
   ]
  },
  {
   "cell_type": "markdown",
   "id": "eee0d7e0",
   "metadata": {},
   "source": [
    "-------------------------------------------------"
   ]
  },
  {
   "cell_type": "markdown",
   "id": "e0316bd5",
   "metadata": {},
   "source": [
    "********************************************"
   ]
  },
  {
   "cell_type": "code",
   "execution_count": 64,
   "id": "25834094",
   "metadata": {},
   "outputs": [],
   "source": [
    "# using 3 function in decorator\n",
    "\n",
    "def repeat(n):\n",
    "    def decorator(func):\n",
    "        print('Hello')\n",
    "        def wrapper(*args, **kwargs):\n",
    "            for i in range(n):\n",
    "                func(*args, **kwargs)\n",
    "                print('func run')\n",
    "        return wrapper\n",
    "    return decorator"
   ]
  },
  {
   "cell_type": "code",
   "execution_count": 65,
   "id": "2cc25ea8",
   "metadata": {},
   "outputs": [
    {
     "name": "stdout",
     "output_type": "stream",
     "text": [
      "Hello\n"
     ]
    }
   ],
   "source": [
    "@repeat(3)\n",
    "def say_hello(name):\n",
    "    print(f'hello, {name}')"
   ]
  },
  {
   "cell_type": "code",
   "execution_count": 66,
   "id": "f3f1fedc",
   "metadata": {},
   "outputs": [
    {
     "name": "stdout",
     "output_type": "stream",
     "text": [
      "hello, alice\n",
      "func run\n",
      "hello, alice\n",
      "func run\n",
      "hello, alice\n",
      "func run\n"
     ]
    }
   ],
   "source": [
    "say_hello(\"alice\")"
   ]
  },
  {
   "cell_type": "code",
   "execution_count": 68,
   "id": "45d2640d",
   "metadata": {},
   "outputs": [
    {
     "name": "stdout",
     "output_type": "stream",
     "text": [
      "hello, alice\n",
      "func run\n",
      "hello, alice\n",
      "func run\n",
      "hello, alice\n",
      "func run\n",
      "Hello\n"
     ]
    }
   ],
   "source": [
    "rep = repeat(3)\n",
    "dec = rep(say_hello('alice'))"
   ]
  },
  {
   "cell_type": "markdown",
   "id": "d387edf6",
   "metadata": {},
   "source": [
    "## Python Property Decorator\n"
   ]
  },
  {
   "cell_type": "markdown",
   "id": "2716d323",
   "metadata": {},
   "source": [
    "### Getter"
   ]
  },
  {
   "cell_type": "code",
   "execution_count": 11,
   "id": "0900a982",
   "metadata": {},
   "outputs": [],
   "source": [
    "class Person:\n",
    "    def __init__(self, name):\n",
    "        self._name = name #this should not be same as below defined function keep it distinct\n",
    "        \n",
    "    @property\n",
    "    def name(self):\n",
    "        print(\"getting the name....\")\n",
    "        return self._name\n",
    "    \n"
   ]
  },
  {
   "cell_type": "code",
   "execution_count": 10,
   "id": "765b976e",
   "metadata": {},
   "outputs": [
    {
     "name": "stdout",
     "output_type": "stream",
     "text": [
      "getting the name....\n",
      "Nischal\n"
     ]
    }
   ],
   "source": [
    "person = Person(\"Nischal\")\n",
    "print(person.name)"
   ]
  },
  {
   "cell_type": "markdown",
   "id": "563658e7",
   "metadata": {},
   "source": [
    "### Setter"
   ]
  },
  {
   "cell_type": "code",
   "execution_count": 12,
   "id": "130f35df",
   "metadata": {},
   "outputs": [],
   "source": [
    "class Person:\n",
    "    def __init__(self, name):\n",
    "        self._name = name\n",
    "        \n",
    "    @property\n",
    "    def name(self):\n",
    "        print(\"getting the name....\")\n",
    "        return self._name\n",
    "    @name.setter # to \n",
    "    def name(self, value): #never forget to give value here as it wont know what value to take without this args\n",
    "        print(\"Setting name....\")\n",
    "        self._name = value\n",
    "    \n"
   ]
  },
  {
   "cell_type": "code",
   "execution_count": 13,
   "id": "1d8bafc1",
   "metadata": {},
   "outputs": [
    {
     "name": "stdout",
     "output_type": "stream",
     "text": [
      "getting the name....\n",
      "nischal\n"
     ]
    }
   ],
   "source": [
    "person = Person(\"nischal\")\n",
    "print(person.name) #this gets the func name() from @property and pass the argument from object Person(\"nischal\")"
   ]
  },
  {
   "cell_type": "code",
   "execution_count": 15,
   "id": "db9fdd7d",
   "metadata": {},
   "outputs": [
    {
     "name": "stdout",
     "output_type": "stream",
     "text": [
      "Setting name....\n",
      "getting the name....\n",
      "Himal\n"
     ]
    }
   ],
   "source": [
    "person.name = \"Himal\"#this sets the value = \"himal\" and override the self.name = nischal and gets the name \"himal from @property\"\n",
    "print(person.name)"
   ]
  },
  {
   "cell_type": "markdown",
   "id": "c8cbbc52",
   "metadata": {},
   "source": [
    "### Deleter"
   ]
  },
  {
   "cell_type": "code",
   "execution_count": 25,
   "id": "be7af8f7",
   "metadata": {},
   "outputs": [],
   "source": [
    "class Person:\n",
    "    def __init__(self, name):\n",
    "        self._name = name\n",
    "        \n",
    "    @property\n",
    "    def name(self):\n",
    "        print(\"getting the name....\")\n",
    "        return self._name\n",
    "    @name.setter \n",
    "    def name(self, value):\n",
    "        print(\"Setting name....\")\n",
    "        self._name = value\n",
    "    @name.deleter #to call deleter there must be getter in the class but setter doesnt matter\n",
    "    def name(self):\n",
    "        print(\"Deleting name....\")\n",
    "        del self._name\n",
    "        "
   ]
  },
  {
   "cell_type": "code",
   "execution_count": 31,
   "id": "bb8520f2",
   "metadata": {},
   "outputs": [
    {
     "name": "stdout",
     "output_type": "stream",
     "text": [
      "getting the name....\n",
      "nischal\n",
      "Deleting name....\n",
      "getting the name....\n"
     ]
    },
    {
     "ename": "AttributeError",
     "evalue": "'Person' object has no attribute '_name'",
     "output_type": "error",
     "traceback": [
      "\u001b[1;31m---------------------------------------------------------------------------\u001b[0m",
      "\u001b[1;31mAttributeError\u001b[0m                            Traceback (most recent call last)",
      "Cell \u001b[1;32mIn[31], line 4\u001b[0m\n\u001b[0;32m      2\u001b[0m \u001b[38;5;28mprint\u001b[39m(person\u001b[38;5;241m.\u001b[39mname)\n\u001b[0;32m      3\u001b[0m \u001b[38;5;28;01mdel\u001b[39;00m person\u001b[38;5;241m.\u001b[39mname \u001b[38;5;66;03m#after deleting the attribute self.name there is nothing to return so it throw attribute error\u001b[39;00m\n\u001b[1;32m----> 4\u001b[0m \u001b[38;5;28mprint\u001b[39m(\u001b[43mperson\u001b[49m\u001b[38;5;241;43m.\u001b[39;49m\u001b[43mname\u001b[49m)\n",
      "Cell \u001b[1;32mIn[25], line 8\u001b[0m, in \u001b[0;36mPerson.name\u001b[1;34m(self)\u001b[0m\n\u001b[0;32m      5\u001b[0m \u001b[38;5;129m@property\u001b[39m\n\u001b[0;32m      6\u001b[0m \u001b[38;5;28;01mdef\u001b[39;00m \u001b[38;5;21mname\u001b[39m(\u001b[38;5;28mself\u001b[39m):\n\u001b[0;32m      7\u001b[0m     \u001b[38;5;28mprint\u001b[39m(\u001b[38;5;124m\"\u001b[39m\u001b[38;5;124mgetting the name....\u001b[39m\u001b[38;5;124m\"\u001b[39m)\n\u001b[1;32m----> 8\u001b[0m     \u001b[38;5;28;01mreturn\u001b[39;00m \u001b[38;5;28;43mself\u001b[39;49m\u001b[38;5;241;43m.\u001b[39;49m\u001b[43m_name\u001b[49m\n",
      "\u001b[1;31mAttributeError\u001b[0m: 'Person' object has no attribute '_name'"
     ]
    }
   ],
   "source": [
    "person = Person(\"nischal\")\n",
    "print(person.name)\n",
    "del person.name #after deleting the attribute self.name there is nothing to return so it throw attribute error\n",
    "print(person.name)\n"
   ]
  },
  {
   "cell_type": "code",
   "execution_count": 33,
   "id": "b35249d5",
   "metadata": {},
   "outputs": [
    {
     "name": "stdout",
     "output_type": "stream",
     "text": [
      "getting the name....\n",
      "nischal\n",
      "Deleting name....\n",
      "Setting name....\n",
      "getting the name....\n",
      "himal\n"
     ]
    }
   ],
   "source": [
    "person = Person(\"nischal\")\n",
    "print(person.name)\n",
    "del person.name \n",
    "person.name = \"himal\" #after deleting name attribute, we can once again use setter to set atribute value as \"himal\" \n",
    "print(person.name) "
   ]
  },
  {
   "cell_type": "code",
   "execution_count": null,
   "id": "8cb62cc7",
   "metadata": {},
   "outputs": [],
   "source": []
  },
  {
   "cell_type": "code",
   "execution_count": null,
   "id": "acf51675",
   "metadata": {},
   "outputs": [],
   "source": []
  },
  {
   "cell_type": "code",
   "execution_count": null,
   "id": "d3d4885c",
   "metadata": {},
   "outputs": [],
   "source": []
  }
 ],
 "metadata": {
  "kernelspec": {
   "display_name": "Python 3 (ipykernel)",
   "language": "python",
   "name": "python3"
  },
  "language_info": {
   "codemirror_mode": {
    "name": "ipython",
    "version": 3
   },
   "file_extension": ".py",
   "mimetype": "text/x-python",
   "name": "python",
   "nbconvert_exporter": "python",
   "pygments_lexer": "ipython3",
   "version": "3.11.3"
  }
 },
 "nbformat": 4,
 "nbformat_minor": 5
}
