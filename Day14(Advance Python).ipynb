{
 "cells": [
  {
   "cell_type": "markdown",
   "id": "ddbe1196",
   "metadata": {},
   "source": [
    "# Closures"
   ]
  },
  {
   "cell_type": "code",
   "execution_count": 2,
   "id": "840a9786",
   "metadata": {},
   "outputs": [],
   "source": [
    "def outer_func(x):\n",
    "    def inner_func(y):\n",
    "        return x + y\n",
    "    return inner_func"
   ]
  },
  {
   "cell_type": "code",
   "execution_count": 7,
   "id": "01f05b26",
   "metadata": {},
   "outputs": [
    {
     "name": "stdout",
     "output_type": "stream",
     "text": [
      "5\n"
     ]
    }
   ],
   "source": [
    "closure = outer_func(3)#\"closure\" doesnt hold a value for a data type or a class type\n",
    "                        # but it holds an entire function \"inner_func\"\n",
    "result = closure(2)\n",
    "print(result)"
   ]
  },
  {
   "cell_type": "code",
   "execution_count": 11,
   "id": "fd8c39c9",
   "metadata": {},
   "outputs": [
    {
     "name": "stdout",
     "output_type": "stream",
     "text": [
      "<class 'function'>\n",
      "<function outer_func.<locals>.inner_func at 0x0000020966B60EA0>\n"
     ]
    }
   ],
   "source": [
    "print(type(closure))\n",
    "print(closure)"
   ]
  },
  {
   "cell_type": "code",
   "execution_count": 36,
   "id": "69cbfb76",
   "metadata": {},
   "outputs": [],
   "source": [
    "def outer_func(x):\n",
    "    def inner1(y):\n",
    "        def inner2(z):\n",
    "            return x + y + z\n",
    "        return inner2\n",
    "    return inner1"
   ]
  },
  {
   "cell_type": "code",
   "execution_count": 38,
   "id": "9abe5784",
   "metadata": {},
   "outputs": [
    {
     "name": "stdout",
     "output_type": "stream",
     "text": [
      "15\n"
     ]
    }
   ],
   "source": [
    "closure1 = outer_func(5)\n",
    "closure2 = closure1(4)\n",
    "result=closure2(6)\n",
    "print(result)"
   ]
  },
  {
   "cell_type": "code",
   "execution_count": 20,
   "id": "3b6d2381",
   "metadata": {},
   "outputs": [
    {
     "ename": "TypeError",
     "evalue": "'function' object is not subscriptable",
     "output_type": "error",
     "traceback": [
      "\u001b[1;31m---------------------------------------------------------------------------\u001b[0m",
      "\u001b[1;31mTypeError\u001b[0m                                 Traceback (most recent call last)",
      "Cell \u001b[1;32mIn[20], line 2\u001b[0m\n\u001b[0;32m      1\u001b[0m \u001b[38;5;66;03m# closure = (inner_function, inner2)\u001b[39;00m\n\u001b[1;32m----> 2\u001b[0m \u001b[43mclosure\u001b[49m\u001b[43m[\u001b[49m\u001b[38;5;241;43m0\u001b[39;49m\u001b[43m]\u001b[49m(\u001b[38;5;241m2\u001b[39m)\n",
      "\u001b[1;31mTypeError\u001b[0m: 'function' object is not subscriptable"
     ]
    }
   ],
   "source": [
    "# closure = (inner_function, inner2)\n",
    "closure[0](2)"
   ]
  },
  {
   "cell_type": "code",
   "execution_count": 40,
   "id": "f4f61fdc",
   "metadata": {},
   "outputs": [],
   "source": [
    "def counter():\n",
    "    count = 0\n",
    "    def inner():\n",
    "        nonlocal count\n",
    "        count += 1\n",
    "        return count\n",
    "    return inner"
   ]
  },
  {
   "cell_type": "code",
   "execution_count": 43,
   "id": "125f22ee",
   "metadata": {},
   "outputs": [
    {
     "name": "stdout",
     "output_type": "stream",
     "text": [
      "1\n",
      "2\n",
      "3\n",
      "\n",
      "1\n",
      "2\n"
     ]
    }
   ],
   "source": [
    "c1 = counter()\n",
    "print(c1())\n",
    "print(c1())\n",
    "print(c1())\n",
    "print()\n",
    "\n",
    "c2 = counter()\n",
    "print(c2())\n",
    "print(c2())"
   ]
  },
  {
   "cell_type": "code",
   "execution_count": null,
   "id": "5e352bd1",
   "metadata": {},
   "outputs": [],
   "source": []
  },
  {
   "cell_type": "code",
   "execution_count": null,
   "id": "e54485e0",
   "metadata": {},
   "outputs": [],
   "source": []
  }
 ],
 "metadata": {
  "kernelspec": {
   "display_name": "Python 3 (ipykernel)",
   "language": "python",
   "name": "python3"
  },
  "language_info": {
   "codemirror_mode": {
    "name": "ipython",
    "version": 3
   },
   "file_extension": ".py",
   "mimetype": "text/x-python",
   "name": "python",
   "nbconvert_exporter": "python",
   "pygments_lexer": "ipython3",
   "version": "3.11.3"
  }
 },
 "nbformat": 4,
 "nbformat_minor": 5
}
